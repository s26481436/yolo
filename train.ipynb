{
 "cells": [
  {
   "cell_type": "code",
   "execution_count": 1,
   "metadata": {},
   "outputs": [
    {
     "data": {
      "text/plain": [
       "'\\ntrainTxt = open(\"trainval.txt\",\\'w\\')\\nvalTxt = open(\"val.txt\",\\'w\\')\\nfor j in range(len(temp)):\\n    rand = random.randint(0,100)\\n    example = calcuText(\\'.\\' + temp[j].rstrip())\\n    if(rand >= 90):\\n        valTxt.write(example)\\n    else:\\n        trainTxt.write(example)\\ntrainTxt.close()\\nvalTxt.close()'"
      ]
     },
     "execution_count": 1,
     "metadata": {},
     "output_type": "execute_result"
    }
   ],
   "source": [
    "import os\n",
    "import time\n",
    "import shutil\n",
    "import numpy as np\n",
    "import tensorflow as tf\n",
    "import core.utils as utils\n",
    "from tqdm import tqdm\n",
    "from core.dataset import Dataset\n",
    "from core.yolov3 import YOLOV3\n",
    "from core.config import cfg\n",
    "import xml.etree.ElementTree as ET\n",
    "from PIL import Image\n",
    "\n",
    "\n",
    "\n",
    "f2 = open('../train_ann.txt','r')\n",
    "temp = f2.readlines()\n",
    "def classToInt(className):\n",
    "    #cause the class name is recorded as string, so have to translate to integer\n",
    "    if className == 'aquarium':\n",
    "        return 0\n",
    "    if className == 'bottle':\n",
    "        return 1\n",
    "    if className == 'bowl':\n",
    "        return 2\n",
    "    if className == 'box':\n",
    "        return 3\n",
    "    if className == 'bucket':\n",
    "        return 4\n",
    "    if className == 'plastic_bag':\n",
    "        return 5\n",
    "    if className == 'plate':\n",
    "        return 6\n",
    "    if className == 'styrofoam':\n",
    "        return 7\n",
    "    if className == 'tire':\n",
    "        return 8\n",
    "    if className == 'toilet':\n",
    "        return 9\n",
    "    if className == 'tub':\n",
    "        return 10\n",
    "    if className == 'washing_machine':\n",
    "        return 11\n",
    "    if className == 'water_tower':\n",
    "        return 12\n",
    "\n",
    "def calcuText(xmlFile):\n",
    "    #the training data has an annotation xml file\n",
    "    #the file records image name,size,object location\n",
    "    #this function would parses the file to tensorflow record\n",
    "    \n",
    "    tree = ET.parse(xmlFile)\n",
    "    root = tree.getroot()\n",
    "    imageName = root.find('filename').text\n",
    "    image = Image.open('../aidea/train_cdc/train_images/' + imageName)\n",
    "    imageBytes = image.tobytes()\n",
    "    size = root.find('size')\n",
    "    width=int(size[0].text)\n",
    "    height=int(size[1].text)\n",
    "    depth=int(size[2].text)\n",
    "    features = {}\n",
    "    xmin = []\n",
    "    ymin = []\n",
    "    xmax = []\n",
    "    ymax = []\n",
    "    classes = []\n",
    "    classesName = []\n",
    "    temp = \"\"\n",
    "    if(len(root.findall('object')) == 0):\n",
    "        print(xmlFile)\n",
    "    for i in root.findall('object'):\n",
    "            temp +=  \" \" + str(i[1][0].text) + \",\" + str(i[1][1].text) + \",\" + str(i[1][2].text) + \",\" + str(i[1][3].text) + \",\" + str(classToInt(i[0].text))\n",
    "    #0 xxx/xxx/a.jpg 453 369 473 391 1 588 245 608 268 2\n",
    "    result = '../aidea/train_cdc/train_images/' + imageName + \" \" + temp + \"\\n\"\n",
    "    return result\n",
    "import random\n",
    "'''\n",
    "trainTxt = open(\"trainval.txt\",'w')\n",
    "valTxt = open(\"val.txt\",'w')\n",
    "for j in range(len(temp)):\n",
    "    rand = random.randint(0,100)\n",
    "    example = calcuText('.' + temp[j].rstrip())\n",
    "    if(rand >= 90):\n",
    "        valTxt.write(example)\n",
    "    else:\n",
    "        trainTxt.write(example)\n",
    "trainTxt.close()\n",
    "valTxt.close()'''"
   ]
  },
  {
   "cell_type": "code",
   "execution_count": 2,
   "metadata": {
    "scrolled": false
   },
   "outputs": [
    {
     "name": "stdout",
     "output_type": "stream",
     "text": [
      "WARNING:tensorflow:From /usr/local/lib/python3.6/dist-packages/tensorflow/python/framework/op_def_library.py:263: colocate_with (from tensorflow.python.framework.ops) is deprecated and will be removed in a future version.\n",
      "Instructions for updating:\n",
      "Colocations handled automatically by placer.\n",
      "WARNING:tensorflow:From /mnt/sda/ipynb/Dragon/deepLearning/tensorflow-yolov3/core/common.py:38: batch_normalization (from tensorflow.python.layers.normalization) is deprecated and will be removed in a future version.\n",
      "Instructions for updating:\n",
      "Use keras.layers.batch_normalization instead.\n",
      "WARNING:tensorflow:From /usr/local/lib/python3.6/dist-packages/tensorflow/python/ops/math_ops.py:3066: to_int32 (from tensorflow.python.ops.math_ops) is deprecated and will be removed in a future version.\n",
      "Instructions for updating:\n",
      "Use tf.cast instead.\n",
      "=> Restoring weights from: ./checkpoint/yolov3_test_loss=19.5595.ckpt-228 ... \n",
      "WARNING:tensorflow:From /usr/local/lib/python3.6/dist-packages/tensorflow/python/training/saver.py:1266: checkpoint_exists (from tensorflow.python.training.checkpoint_management) is deprecated and will be removed in a future version.\n",
      "Instructions for updating:\n",
      "Use standard file APIs to check for files with this prefix.\n",
      "INFO:tensorflow:Restoring parameters from ./checkpoint/yolov3_test_loss=19.5595.ckpt-228\n"
     ]
    },
    {
     "name": "stderr",
     "output_type": "stream",
     "text": [
      "train loss: 2.84: 100%|██████████| 396/396 [01:05<00:00,  7.35it/s] \n"
     ]
    },
    {
     "name": "stdout",
     "output_type": "stream",
     "text": [
      "=> Epoch:  1 Time: 2019-06-20 12:40:47 Train loss: 2.30 Test loss: 19.37 Saving ./checkpoint/yolov3_test_loss=19.3706.ckpt ...\n"
     ]
    },
    {
     "name": "stderr",
     "output_type": "stream",
     "text": [
      "train loss: 2.87: 100%|██████████| 396/396 [00:59<00:00,  7.70it/s] \n"
     ]
    },
    {
     "name": "stdout",
     "output_type": "stream",
     "text": [
      "=> Epoch:  2 Time: 2019-06-20 12:41:55 Train loss: 2.24 Test loss: 19.76 Saving ./checkpoint/yolov3_test_loss=19.7649.ckpt ...\n"
     ]
    },
    {
     "name": "stderr",
     "output_type": "stream",
     "text": [
      "train loss: 1.46: 100%|██████████| 396/396 [02:36<00:00,  2.90it/s]\n"
     ]
    },
    {
     "name": "stdout",
     "output_type": "stream",
     "text": [
      "=> Epoch:  3 Time: 2019-06-20 12:44:40 Train loss: 2.17 Test loss: 20.01 Saving ./checkpoint/yolov3_test_loss=20.0074.ckpt ...\n"
     ]
    },
    {
     "name": "stderr",
     "output_type": "stream",
     "text": [
      "train loss: 2.32: 100%|██████████| 396/396 [02:21<00:00,  2.90it/s]\n"
     ]
    },
    {
     "name": "stdout",
     "output_type": "stream",
     "text": [
      "=> Epoch:  4 Time: 2019-06-20 12:47:10 Train loss: 2.11 Test loss: 19.55 Saving ./checkpoint/yolov3_test_loss=19.5477.ckpt ...\n"
     ]
    },
    {
     "name": "stderr",
     "output_type": "stream",
     "text": [
      "train loss: 1.69: 100%|██████████| 396/396 [02:21<00:00,  3.06it/s]\n"
     ]
    },
    {
     "name": "stdout",
     "output_type": "stream",
     "text": [
      "=> Epoch:  5 Time: 2019-06-20 12:49:40 Train loss: 2.06 Test loss: 21.02 Saving ./checkpoint/yolov3_test_loss=21.0227.ckpt ...\n"
     ]
    },
    {
     "name": "stderr",
     "output_type": "stream",
     "text": [
      "train loss: 1.19: 100%|██████████| 396/396 [02:22<00:00,  3.20it/s]\n"
     ]
    },
    {
     "name": "stdout",
     "output_type": "stream",
     "text": [
      "=> Epoch:  6 Time: 2019-06-20 12:52:11 Train loss: 2.05 Test loss: 20.16 Saving ./checkpoint/yolov3_test_loss=20.1593.ckpt ...\n"
     ]
    },
    {
     "name": "stderr",
     "output_type": "stream",
     "text": [
      "train loss: 4.52: 100%|██████████| 396/396 [02:20<00:00,  3.42it/s]\n"
     ]
    },
    {
     "name": "stdout",
     "output_type": "stream",
     "text": [
      "=> Epoch:  7 Time: 2019-06-20 12:54:41 Train loss: 1.99 Test loss: 19.62 Saving ./checkpoint/yolov3_test_loss=19.6189.ckpt ...\n"
     ]
    },
    {
     "name": "stderr",
     "output_type": "stream",
     "text": [
      "train loss: 2.70: 100%|██████████| 396/396 [02:25<00:00,  2.19it/s]\n"
     ]
    },
    {
     "name": "stdout",
     "output_type": "stream",
     "text": [
      "=> Epoch:  8 Time: 2019-06-20 12:57:15 Train loss: 1.97 Test loss: 21.18 Saving ./checkpoint/yolov3_test_loss=21.1823.ckpt ...\n"
     ]
    },
    {
     "name": "stderr",
     "output_type": "stream",
     "text": [
      "train loss: 7.85: 100%|██████████| 396/396 [02:25<00:00,  2.73it/s]\n"
     ]
    },
    {
     "name": "stdout",
     "output_type": "stream",
     "text": [
      "=> Epoch:  9 Time: 2019-06-20 12:59:49 Train loss: 2.01 Test loss: 20.22 Saving ./checkpoint/yolov3_test_loss=20.2181.ckpt ...\n"
     ]
    },
    {
     "name": "stderr",
     "output_type": "stream",
     "text": [
      "train loss: 2.35: 100%|██████████| 396/396 [02:24<00:00,  3.11it/s]\n"
     ]
    },
    {
     "name": "stdout",
     "output_type": "stream",
     "text": [
      "=> Epoch: 10 Time: 2019-06-20 13:02:21 Train loss: 2.01 Test loss: 19.96 Saving ./checkpoint/yolov3_test_loss=19.9645.ckpt ...\n"
     ]
    },
    {
     "name": "stderr",
     "output_type": "stream",
     "text": [
      "train loss: 1.38: 100%|██████████| 396/396 [02:23<00:00,  2.46it/s]\n"
     ]
    },
    {
     "name": "stdout",
     "output_type": "stream",
     "text": [
      "=> Epoch: 11 Time: 2019-06-20 13:04:54 Train loss: 1.98 Test loss: 19.78 Saving ./checkpoint/yolov3_test_loss=19.7836.ckpt ...\n"
     ]
    },
    {
     "name": "stderr",
     "output_type": "stream",
     "text": [
      "train loss: 1.30: 100%|██████████| 396/396 [02:27<00:00,  2.86it/s]\n"
     ]
    },
    {
     "name": "stdout",
     "output_type": "stream",
     "text": [
      "=> Epoch: 12 Time: 2019-06-20 13:07:29 Train loss: 1.94 Test loss: 20.46 Saving ./checkpoint/yolov3_test_loss=20.4568.ckpt ...\n"
     ]
    },
    {
     "name": "stderr",
     "output_type": "stream",
     "text": [
      "train loss: 1.69: 100%|██████████| 396/396 [02:22<00:00,  3.34it/s]\n"
     ]
    },
    {
     "name": "stdout",
     "output_type": "stream",
     "text": [
      "=> Epoch: 13 Time: 2019-06-20 13:10:01 Train loss: 2.00 Test loss: 19.98 Saving ./checkpoint/yolov3_test_loss=19.9777.ckpt ...\n"
     ]
    },
    {
     "name": "stderr",
     "output_type": "stream",
     "text": [
      "train loss: 1.48: 100%|██████████| 396/396 [02:26<00:00,  3.25it/s]\n"
     ]
    },
    {
     "name": "stdout",
     "output_type": "stream",
     "text": [
      "=> Epoch: 14 Time: 2019-06-20 13:12:36 Train loss: 1.96 Test loss: 20.76 Saving ./checkpoint/yolov3_test_loss=20.7573.ckpt ...\n"
     ]
    },
    {
     "name": "stderr",
     "output_type": "stream",
     "text": [
      "train loss: 0.98: 100%|██████████| 396/396 [02:24<00:00,  3.19it/s]\n"
     ]
    },
    {
     "name": "stdout",
     "output_type": "stream",
     "text": [
      "=> Epoch: 15 Time: 2019-06-20 13:15:09 Train loss: 1.95 Test loss: 20.19 Saving ./checkpoint/yolov3_test_loss=20.1948.ckpt ...\n"
     ]
    },
    {
     "name": "stderr",
     "output_type": "stream",
     "text": [
      "train loss: 5.74: 100%|██████████| 396/396 [02:22<00:00,  3.26it/s]\n"
     ]
    },
    {
     "name": "stdout",
     "output_type": "stream",
     "text": [
      "=> Epoch: 16 Time: 2019-06-20 13:17:40 Train loss: 1.96 Test loss: 20.76 Saving ./checkpoint/yolov3_test_loss=20.7553.ckpt ...\n"
     ]
    },
    {
     "name": "stderr",
     "output_type": "stream",
     "text": [
      "train loss: 1.52: 100%|██████████| 396/396 [02:24<00:00,  2.48it/s] \n"
     ]
    },
    {
     "name": "stdout",
     "output_type": "stream",
     "text": [
      "=> Epoch: 17 Time: 2019-06-20 13:20:13 Train loss: 1.91 Test loss: 20.78 Saving ./checkpoint/yolov3_test_loss=20.7764.ckpt ...\n"
     ]
    },
    {
     "name": "stderr",
     "output_type": "stream",
     "text": [
      "train loss: 2.67: 100%|██████████| 396/396 [02:22<00:00,  3.22it/s]\n"
     ]
    },
    {
     "name": "stdout",
     "output_type": "stream",
     "text": [
      "=> Epoch: 18 Time: 2019-06-20 13:22:43 Train loss: 1.94 Test loss: 20.22 Saving ./checkpoint/yolov3_test_loss=20.2235.ckpt ...\n"
     ]
    },
    {
     "name": "stderr",
     "output_type": "stream",
     "text": [
      "train loss: 2.26: 100%|██████████| 396/396 [02:16<00:00,  2.80it/s]\n"
     ]
    },
    {
     "name": "stdout",
     "output_type": "stream",
     "text": [
      "=> Epoch: 19 Time: 2019-06-20 13:25:09 Train loss: 1.89 Test loss: 20.21 Saving ./checkpoint/yolov3_test_loss=20.2060.ckpt ...\n"
     ]
    },
    {
     "name": "stderr",
     "output_type": "stream",
     "text": [
      "train loss: 1.63: 100%|██████████| 396/396 [02:23<00:00,  3.42it/s]\n"
     ]
    },
    {
     "name": "stdout",
     "output_type": "stream",
     "text": [
      "=> Epoch: 20 Time: 2019-06-20 13:27:41 Train loss: 1.92 Test loss: 20.10 Saving ./checkpoint/yolov3_test_loss=20.1002.ckpt ...\n"
     ]
    },
    {
     "name": "stderr",
     "output_type": "stream",
     "text": [
      "train loss: 2.06: 100%|██████████| 396/396 [02:24<00:00,  2.71it/s]\n"
     ]
    },
    {
     "name": "stdout",
     "output_type": "stream",
     "text": [
      "=> Epoch: 21 Time: 2019-06-20 13:30:14 Train loss: 1.88 Test loss: 21.14 Saving ./checkpoint/yolov3_test_loss=21.1448.ckpt ...\n"
     ]
    },
    {
     "name": "stderr",
     "output_type": "stream",
     "text": [
      "train loss: 1.50: 100%|██████████| 396/396 [02:21<00:00,  2.94it/s]\n"
     ]
    },
    {
     "name": "stdout",
     "output_type": "stream",
     "text": [
      "=> Epoch: 22 Time: 2019-06-20 13:32:45 Train loss: 1.90 Test loss: 20.96 Saving ./checkpoint/yolov3_test_loss=20.9632.ckpt ...\n"
     ]
    },
    {
     "name": "stderr",
     "output_type": "stream",
     "text": [
      "train loss: 1.77: 100%|██████████| 396/396 [02:21<00:00,  2.83it/s]\n"
     ]
    },
    {
     "name": "stdout",
     "output_type": "stream",
     "text": [
      "=> Epoch: 23 Time: 2019-06-20 13:35:15 Train loss: 1.91 Test loss: 20.95 Saving ./checkpoint/yolov3_test_loss=20.9514.ckpt ...\n"
     ]
    },
    {
     "name": "stderr",
     "output_type": "stream",
     "text": [
      "train loss: 1.32: 100%|██████████| 396/396 [02:22<00:00,  2.30it/s]\n"
     ]
    },
    {
     "name": "stdout",
     "output_type": "stream",
     "text": [
      "=> Epoch: 24 Time: 2019-06-20 13:37:45 Train loss: 1.90 Test loss: 20.61 Saving ./checkpoint/yolov3_test_loss=20.6089.ckpt ...\n"
     ]
    },
    {
     "name": "stderr",
     "output_type": "stream",
     "text": [
      "train loss: 1.15: 100%|██████████| 396/396 [02:29<00:00,  2.89it/s]\n"
     ]
    },
    {
     "name": "stdout",
     "output_type": "stream",
     "text": [
      "=> Epoch: 25 Time: 2019-06-20 13:40:23 Train loss: 1.88 Test loss: 20.78 Saving ./checkpoint/yolov3_test_loss=20.7773.ckpt ...\n"
     ]
    },
    {
     "name": "stderr",
     "output_type": "stream",
     "text": [
      "train loss: 3.44: 100%|██████████| 396/396 [02:22<00:00,  2.57it/s]\n"
     ]
    },
    {
     "name": "stdout",
     "output_type": "stream",
     "text": [
      "=> Epoch: 26 Time: 2019-06-20 13:42:55 Train loss: 1.88 Test loss: 20.62 Saving ./checkpoint/yolov3_test_loss=20.6198.ckpt ...\n"
     ]
    },
    {
     "name": "stderr",
     "output_type": "stream",
     "text": [
      "train loss: 1.00: 100%|██████████| 396/396 [02:24<00:00,  3.20it/s]\n"
     ]
    },
    {
     "name": "stdout",
     "output_type": "stream",
     "text": [
      "=> Epoch: 27 Time: 2019-06-20 13:45:27 Train loss: 1.90 Test loss: 20.37 Saving ./checkpoint/yolov3_test_loss=20.3724.ckpt ...\n"
     ]
    },
    {
     "name": "stderr",
     "output_type": "stream",
     "text": [
      "train loss: 0.82: 100%|██████████| 396/396 [02:23<00:00,  2.81it/s]\n"
     ]
    },
    {
     "name": "stdout",
     "output_type": "stream",
     "text": [
      "=> Epoch: 28 Time: 2019-06-20 13:47:59 Train loss: 1.92 Test loss: 20.28 Saving ./checkpoint/yolov3_test_loss=20.2808.ckpt ...\n"
     ]
    },
    {
     "name": "stderr",
     "output_type": "stream",
     "text": [
      "train loss: 4.35: 100%|██████████| 396/396 [02:23<00:00,  3.52it/s]\n"
     ]
    },
    {
     "name": "stdout",
     "output_type": "stream",
     "text": [
      "=> Epoch: 29 Time: 2019-06-20 13:50:32 Train loss: 1.87 Test loss: 21.19 Saving ./checkpoint/yolov3_test_loss=21.1907.ckpt ...\n"
     ]
    },
    {
     "name": "stderr",
     "output_type": "stream",
     "text": [
      "train loss: 3.62: 100%|██████████| 396/396 [02:21<00:00,  2.81it/s]\n"
     ]
    },
    {
     "name": "stdout",
     "output_type": "stream",
     "text": [
      "=> Epoch: 30 Time: 2019-06-20 13:53:02 Train loss: 1.94 Test loss: 20.99 Saving ./checkpoint/yolov3_test_loss=20.9908.ckpt ...\n"
     ]
    },
    {
     "name": "stderr",
     "output_type": "stream",
     "text": [
      "train loss: 2.19: 100%|██████████| 396/396 [02:23<00:00,  2.67it/s]\n"
     ]
    },
    {
     "name": "stdout",
     "output_type": "stream",
     "text": [
      "=> Epoch: 31 Time: 2019-06-20 13:55:34 Train loss: 1.88 Test loss: 21.55 Saving ./checkpoint/yolov3_test_loss=21.5496.ckpt ...\n"
     ]
    },
    {
     "name": "stderr",
     "output_type": "stream",
     "text": [
      "train loss: 2.35: 100%|██████████| 396/396 [02:23<00:00,  2.57it/s]\n"
     ]
    },
    {
     "name": "stdout",
     "output_type": "stream",
     "text": [
      "=> Epoch: 32 Time: 2019-06-20 13:58:06 Train loss: 1.89 Test loss: 20.98 Saving ./checkpoint/yolov3_test_loss=20.9796.ckpt ...\n"
     ]
    },
    {
     "name": "stderr",
     "output_type": "stream",
     "text": [
      "train loss: 2.33: 100%|██████████| 396/396 [02:22<00:00,  3.05it/s]\n"
     ]
    },
    {
     "name": "stdout",
     "output_type": "stream",
     "text": [
      "=> Epoch: 33 Time: 2019-06-20 14:00:36 Train loss: 1.90 Test loss: 20.83 Saving ./checkpoint/yolov3_test_loss=20.8332.ckpt ...\n"
     ]
    },
    {
     "name": "stderr",
     "output_type": "stream",
     "text": [
      "train loss: 1.66: 100%|██████████| 396/396 [02:24<00:00,  2.85it/s]\n"
     ]
    },
    {
     "name": "stdout",
     "output_type": "stream",
     "text": [
      "=> Epoch: 34 Time: 2019-06-20 14:03:10 Train loss: 1.85 Test loss: 20.64 Saving ./checkpoint/yolov3_test_loss=20.6398.ckpt ...\n"
     ]
    },
    {
     "name": "stderr",
     "output_type": "stream",
     "text": [
      "train loss: 1.40: 100%|██████████| 396/396 [02:21<00:00,  2.60it/s]\n"
     ]
    },
    {
     "name": "stdout",
     "output_type": "stream",
     "text": [
      "=> Epoch: 35 Time: 2019-06-20 14:05:40 Train loss: 1.92 Test loss: 20.76 Saving ./checkpoint/yolov3_test_loss=20.7626.ckpt ...\n"
     ]
    },
    {
     "name": "stderr",
     "output_type": "stream",
     "text": [
      "train loss: 2.31: 100%|██████████| 396/396 [02:23<00:00,  2.40it/s]\n"
     ]
    },
    {
     "name": "stdout",
     "output_type": "stream",
     "text": [
      "=> Epoch: 36 Time: 2019-06-20 14:08:12 Train loss: 1.87 Test loss: 20.57 Saving ./checkpoint/yolov3_test_loss=20.5712.ckpt ...\n"
     ]
    },
    {
     "name": "stderr",
     "output_type": "stream",
     "text": [
      "train loss: 1.51: 100%|██████████| 396/396 [02:21<00:00,  2.83it/s]\n"
     ]
    },
    {
     "name": "stdout",
     "output_type": "stream",
     "text": [
      "=> Epoch: 37 Time: 2019-06-20 14:10:42 Train loss: 1.87 Test loss: 21.10 Saving ./checkpoint/yolov3_test_loss=21.0984.ckpt ...\n"
     ]
    },
    {
     "name": "stderr",
     "output_type": "stream",
     "text": [
      "train loss: 0.84: 100%|██████████| 396/396 [02:20<00:00,  2.51it/s]\n"
     ]
    },
    {
     "name": "stdout",
     "output_type": "stream",
     "text": [
      "=> Epoch: 38 Time: 2019-06-20 14:13:12 Train loss: 1.85 Test loss: 20.94 Saving ./checkpoint/yolov3_test_loss=20.9373.ckpt ...\n"
     ]
    },
    {
     "name": "stderr",
     "output_type": "stream",
     "text": [
      "train loss: 0.99: 100%|██████████| 396/396 [02:21<00:00,  3.05it/s] \n"
     ]
    },
    {
     "name": "stdout",
     "output_type": "stream",
     "text": [
      "=> Epoch: 39 Time: 2019-06-20 14:15:42 Train loss: 1.81 Test loss: 21.42 Saving ./checkpoint/yolov3_test_loss=21.4156.ckpt ...\n"
     ]
    },
    {
     "name": "stderr",
     "output_type": "stream",
     "text": [
      "train loss: 0.91: 100%|██████████| 396/396 [02:25<00:00,  2.45it/s]\n"
     ]
    },
    {
     "name": "stdout",
     "output_type": "stream",
     "text": [
      "=> Epoch: 40 Time: 2019-06-20 14:18:17 Train loss: 1.85 Test loss: 21.45 Saving ./checkpoint/yolov3_test_loss=21.4539.ckpt ...\n"
     ]
    },
    {
     "name": "stderr",
     "output_type": "stream",
     "text": [
      "train loss: 2.10: 100%|██████████| 396/396 [02:19<00:00,  2.56it/s]\n"
     ]
    },
    {
     "name": "stdout",
     "output_type": "stream",
     "text": [
      "=> Epoch: 41 Time: 2019-06-20 14:20:45 Train loss: 1.86 Test loss: 20.69 Saving ./checkpoint/yolov3_test_loss=20.6885.ckpt ...\n"
     ]
    },
    {
     "name": "stderr",
     "output_type": "stream",
     "text": [
      "train loss: 1.97: 100%|██████████| 396/396 [02:23<00:00,  2.60it/s]\n"
     ]
    },
    {
     "name": "stdout",
     "output_type": "stream",
     "text": [
      "=> Epoch: 42 Time: 2019-06-20 14:23:18 Train loss: 1.85 Test loss: 20.56 Saving ./checkpoint/yolov3_test_loss=20.5641.ckpt ...\n"
     ]
    },
    {
     "name": "stderr",
     "output_type": "stream",
     "text": [
      "train loss: 1.37: 100%|██████████| 396/396 [02:22<00:00,  2.06it/s]\n"
     ]
    },
    {
     "name": "stdout",
     "output_type": "stream",
     "text": [
      "=> Epoch: 43 Time: 2019-06-20 14:25:48 Train loss: 1.86 Test loss: 21.52 Saving ./checkpoint/yolov3_test_loss=21.5234.ckpt ...\n"
     ]
    },
    {
     "name": "stderr",
     "output_type": "stream",
     "text": [
      "train loss: 1.73: 100%|██████████| 396/396 [02:27<00:00,  2.80it/s]\n"
     ]
    },
    {
     "name": "stdout",
     "output_type": "stream",
     "text": [
      "=> Epoch: 44 Time: 2019-06-20 14:28:25 Train loss: 1.82 Test loss: 20.97 Saving ./checkpoint/yolov3_test_loss=20.9686.ckpt ...\n"
     ]
    },
    {
     "name": "stderr",
     "output_type": "stream",
     "text": [
      "train loss: 1.01: 100%|██████████| 396/396 [02:30<00:00,  2.47it/s] \n"
     ]
    },
    {
     "name": "stdout",
     "output_type": "stream",
     "text": [
      "=> Epoch: 45 Time: 2019-06-20 14:31:03 Train loss: 1.87 Test loss: 21.05 Saving ./checkpoint/yolov3_test_loss=21.0515.ckpt ...\n"
     ]
    },
    {
     "name": "stderr",
     "output_type": "stream",
     "text": [
      "train loss: 1.96: 100%|██████████| 396/396 [02:25<00:00,  2.30it/s]\n"
     ]
    },
    {
     "name": "stdout",
     "output_type": "stream",
     "text": [
      "=> Epoch: 46 Time: 2019-06-20 14:33:37 Train loss: 1.87 Test loss: 22.06 Saving ./checkpoint/yolov3_test_loss=22.0638.ckpt ...\n"
     ]
    },
    {
     "name": "stderr",
     "output_type": "stream",
     "text": [
      "train loss: 1.00: 100%|██████████| 396/396 [02:24<00:00,  2.63it/s]\n"
     ]
    },
    {
     "name": "stdout",
     "output_type": "stream",
     "text": [
      "=> Epoch: 47 Time: 2019-06-20 14:36:11 Train loss: 1.82 Test loss: 21.08 Saving ./checkpoint/yolov3_test_loss=21.0783.ckpt ...\n"
     ]
    },
    {
     "name": "stderr",
     "output_type": "stream",
     "text": [
      "train loss: 0.84: 100%|██████████| 396/396 [02:20<00:00,  3.08it/s]\n"
     ]
    },
    {
     "name": "stdout",
     "output_type": "stream",
     "text": [
      "=> Epoch: 48 Time: 2019-06-20 14:38:40 Train loss: 1.83 Test loss: 20.51 Saving ./checkpoint/yolov3_test_loss=20.5113.ckpt ...\n"
     ]
    },
    {
     "name": "stderr",
     "output_type": "stream",
     "text": [
      "train loss: 1.38: 100%|██████████| 396/396 [02:18<00:00,  2.98it/s]\n"
     ]
    },
    {
     "name": "stdout",
     "output_type": "stream",
     "text": [
      "=> Epoch: 49 Time: 2019-06-20 14:41:07 Train loss: 1.82 Test loss: 20.72 Saving ./checkpoint/yolov3_test_loss=20.7152.ckpt ...\n"
     ]
    },
    {
     "name": "stderr",
     "output_type": "stream",
     "text": [
      "train loss: 1.74: 100%|██████████| 396/396 [02:23<00:00,  3.23it/s]\n"
     ]
    },
    {
     "name": "stdout",
     "output_type": "stream",
     "text": [
      "=> Epoch: 50 Time: 2019-06-20 14:43:39 Train loss: 1.87 Test loss: 20.55 Saving ./checkpoint/yolov3_test_loss=20.5519.ckpt ...\n"
     ]
    },
    {
     "name": "stderr",
     "output_type": "stream",
     "text": [
      "train loss: 2.07: 100%|██████████| 396/396 [02:21<00:00,  2.89it/s]\n"
     ]
    },
    {
     "name": "stdout",
     "output_type": "stream",
     "text": [
      "=> Epoch: 51 Time: 2019-06-20 14:46:10 Train loss: 1.82 Test loss: 20.79 Saving ./checkpoint/yolov3_test_loss=20.7923.ckpt ...\n"
     ]
    },
    {
     "name": "stderr",
     "output_type": "stream",
     "text": [
      "train loss: 1.50: 100%|██████████| 396/396 [02:25<00:00,  2.95it/s]\n"
     ]
    },
    {
     "name": "stdout",
     "output_type": "stream",
     "text": [
      "=> Epoch: 52 Time: 2019-06-20 14:48:44 Train loss: 1.85 Test loss: 20.94 Saving ./checkpoint/yolov3_test_loss=20.9424.ckpt ...\n"
     ]
    },
    {
     "name": "stderr",
     "output_type": "stream",
     "text": [
      "train loss: 1.24: 100%|██████████| 396/396 [02:23<00:00,  2.31it/s]\n"
     ]
    },
    {
     "name": "stdout",
     "output_type": "stream",
     "text": [
      "=> Epoch: 53 Time: 2019-06-20 14:51:16 Train loss: 1.84 Test loss: 20.60 Saving ./checkpoint/yolov3_test_loss=20.5989.ckpt ...\n"
     ]
    },
    {
     "name": "stderr",
     "output_type": "stream",
     "text": [
      "train loss: 0.99: 100%|██████████| 396/396 [02:25<00:00,  2.43it/s]\n"
     ]
    },
    {
     "name": "stdout",
     "output_type": "stream",
     "text": [
      "=> Epoch: 54 Time: 2019-06-20 14:53:49 Train loss: 1.82 Test loss: 20.85 Saving ./checkpoint/yolov3_test_loss=20.8514.ckpt ...\n"
     ]
    },
    {
     "name": "stderr",
     "output_type": "stream",
     "text": [
      "train loss: 1.07: 100%|██████████| 396/396 [02:19<00:00,  2.78it/s]\n"
     ]
    },
    {
     "name": "stdout",
     "output_type": "stream",
     "text": [
      "=> Epoch: 55 Time: 2019-06-20 14:56:18 Train loss: 1.81 Test loss: 21.20 Saving ./checkpoint/yolov3_test_loss=21.1992.ckpt ...\n"
     ]
    },
    {
     "name": "stderr",
     "output_type": "stream",
     "text": [
      "train loss: 1.84: 100%|██████████| 396/396 [02:19<00:00,  2.38it/s]\n"
     ]
    },
    {
     "name": "stdout",
     "output_type": "stream",
     "text": [
      "=> Epoch: 56 Time: 2019-06-20 14:58:46 Train loss: 1.80 Test loss: 20.58 Saving ./checkpoint/yolov3_test_loss=20.5763.ckpt ...\n"
     ]
    },
    {
     "name": "stderr",
     "output_type": "stream",
     "text": [
      "train loss: 2.07: 100%|██████████| 396/396 [02:22<00:00,  2.46it/s]\n"
     ]
    },
    {
     "name": "stdout",
     "output_type": "stream",
     "text": [
      "=> Epoch: 57 Time: 2019-06-20 15:01:17 Train loss: 1.87 Test loss: 21.61 Saving ./checkpoint/yolov3_test_loss=21.6108.ckpt ...\n"
     ]
    },
    {
     "name": "stderr",
     "output_type": "stream",
     "text": [
      "train loss: 1.56: 100%|██████████| 396/396 [02:25<00:00,  2.36it/s]\n"
     ]
    },
    {
     "name": "stdout",
     "output_type": "stream",
     "text": [
      "=> Epoch: 58 Time: 2019-06-20 15:03:51 Train loss: 1.85 Test loss: 21.01 Saving ./checkpoint/yolov3_test_loss=21.0097.ckpt ...\n"
     ]
    },
    {
     "name": "stderr",
     "output_type": "stream",
     "text": [
      "train loss: 1.23: 100%|██████████| 396/396 [02:24<00:00,  2.87it/s]\n"
     ]
    },
    {
     "name": "stdout",
     "output_type": "stream",
     "text": [
      "=> Epoch: 59 Time: 2019-06-20 15:06:24 Train loss: 1.84 Test loss: 21.15 Saving ./checkpoint/yolov3_test_loss=21.1452.ckpt ...\n"
     ]
    },
    {
     "name": "stderr",
     "output_type": "stream",
     "text": [
      "train loss: 1.64: 100%|██████████| 396/396 [02:27<00:00,  2.38it/s]\n"
     ]
    },
    {
     "name": "stdout",
     "output_type": "stream",
     "text": [
      "=> Epoch: 60 Time: 2019-06-20 15:09:00 Train loss: 1.80 Test loss: 20.70 Saving ./checkpoint/yolov3_test_loss=20.6961.ckpt ...\n"
     ]
    },
    {
     "name": "stderr",
     "output_type": "stream",
     "text": [
      "train loss: 1.78: 100%|██████████| 396/396 [02:21<00:00,  2.39it/s] \n"
     ]
    },
    {
     "name": "stdout",
     "output_type": "stream",
     "text": [
      "=> Epoch: 61 Time: 2019-06-20 15:11:31 Train loss: 1.84 Test loss: 20.85 Saving ./checkpoint/yolov3_test_loss=20.8511.ckpt ...\n"
     ]
    },
    {
     "name": "stderr",
     "output_type": "stream",
     "text": [
      "train loss: 1.41: 100%|██████████| 396/396 [02:23<00:00,  3.24it/s]\n"
     ]
    },
    {
     "name": "stdout",
     "output_type": "stream",
     "text": [
      "=> Epoch: 62 Time: 2019-06-20 15:14:03 Train loss: 1.81 Test loss: 20.84 Saving ./checkpoint/yolov3_test_loss=20.8413.ckpt ...\n"
     ]
    },
    {
     "name": "stderr",
     "output_type": "stream",
     "text": [
      "train loss: 2.59: 100%|██████████| 396/396 [02:19<00:00,  2.95it/s]\n"
     ]
    },
    {
     "name": "stdout",
     "output_type": "stream",
     "text": [
      "=> Epoch: 63 Time: 2019-06-20 15:16:31 Train loss: 1.83 Test loss: 21.02 Saving ./checkpoint/yolov3_test_loss=21.0185.ckpt ...\n"
     ]
    },
    {
     "name": "stderr",
     "output_type": "stream",
     "text": [
      "train loss: 1.69: 100%|██████████| 396/396 [02:22<00:00,  2.90it/s]\n"
     ]
    },
    {
     "name": "stdout",
     "output_type": "stream",
     "text": [
      "=> Epoch: 64 Time: 2019-06-20 15:19:01 Train loss: 1.82 Test loss: 21.06 Saving ./checkpoint/yolov3_test_loss=21.0612.ckpt ...\n"
     ]
    },
    {
     "name": "stderr",
     "output_type": "stream",
     "text": [
      "train loss: 4.04: 100%|██████████| 396/396 [02:22<00:00,  3.22it/s]\n"
     ]
    },
    {
     "name": "stdout",
     "output_type": "stream",
     "text": [
      "=> Epoch: 65 Time: 2019-06-20 15:21:33 Train loss: 1.83 Test loss: 20.74 Saving ./checkpoint/yolov3_test_loss=20.7364.ckpt ...\n"
     ]
    },
    {
     "name": "stderr",
     "output_type": "stream",
     "text": [
      "train loss: 4.22: 100%|██████████| 396/396 [02:23<00:00,  3.30it/s]\n"
     ]
    },
    {
     "name": "stdout",
     "output_type": "stream",
     "text": [
      "=> Epoch: 66 Time: 2019-06-20 15:24:06 Train loss: 1.84 Test loss: 20.48 Saving ./checkpoint/yolov3_test_loss=20.4753.ckpt ...\n"
     ]
    },
    {
     "name": "stderr",
     "output_type": "stream",
     "text": [
      "train loss: 3.02: 100%|██████████| 396/396 [02:19<00:00,  2.91it/s]\n"
     ]
    },
    {
     "name": "stdout",
     "output_type": "stream",
     "text": [
      "=> Epoch: 67 Time: 2019-06-20 15:26:33 Train loss: 1.79 Test loss: 21.66 Saving ./checkpoint/yolov3_test_loss=21.6567.ckpt ...\n"
     ]
    },
    {
     "name": "stderr",
     "output_type": "stream",
     "text": [
      "train loss: 1.23: 100%|██████████| 396/396 [02:17<00:00,  2.79it/s]\n"
     ]
    },
    {
     "name": "stdout",
     "output_type": "stream",
     "text": [
      "=> Epoch: 68 Time: 2019-06-20 15:28:59 Train loss: 1.77 Test loss: 21.04 Saving ./checkpoint/yolov3_test_loss=21.0377.ckpt ...\n"
     ]
    },
    {
     "name": "stderr",
     "output_type": "stream",
     "text": [
      "train loss: 1.09: 100%|██████████| 396/396 [02:20<00:00,  3.22it/s]\n"
     ]
    },
    {
     "name": "stdout",
     "output_type": "stream",
     "text": [
      "=> Epoch: 69 Time: 2019-06-20 15:31:28 Train loss: 1.82 Test loss: 21.01 Saving ./checkpoint/yolov3_test_loss=21.0124.ckpt ...\n"
     ]
    },
    {
     "name": "stderr",
     "output_type": "stream",
     "text": [
      "train loss: 1.89: 100%|██████████| 396/396 [02:21<00:00,  3.73it/s]\n"
     ]
    },
    {
     "name": "stdout",
     "output_type": "stream",
     "text": [
      "=> Epoch: 70 Time: 2019-06-20 15:33:58 Train loss: 1.78 Test loss: 22.03 Saving ./checkpoint/yolov3_test_loss=22.0342.ckpt ...\n"
     ]
    },
    {
     "name": "stderr",
     "output_type": "stream",
     "text": [
      "train loss: 2.64: 100%|██████████| 396/396 [02:20<00:00,  3.03it/s]\n"
     ]
    },
    {
     "name": "stdout",
     "output_type": "stream",
     "text": [
      "=> Epoch: 71 Time: 2019-06-20 15:36:27 Train loss: 1.80 Test loss: 20.60 Saving ./checkpoint/yolov3_test_loss=20.5986.ckpt ...\n"
     ]
    },
    {
     "name": "stderr",
     "output_type": "stream",
     "text": [
      "train loss: 0.99: 100%|██████████| 396/396 [02:24<00:00,  2.85it/s]\n"
     ]
    },
    {
     "name": "stdout",
     "output_type": "stream",
     "text": [
      "=> Epoch: 72 Time: 2019-06-20 15:39:00 Train loss: 1.79 Test loss: 20.74 Saving ./checkpoint/yolov3_test_loss=20.7406.ckpt ...\n"
     ]
    },
    {
     "name": "stderr",
     "output_type": "stream",
     "text": [
      "train loss: 8.74: 100%|██████████| 396/396 [02:18<00:00,  3.14it/s]\n"
     ]
    },
    {
     "name": "stdout",
     "output_type": "stream",
     "text": [
      "=> Epoch: 73 Time: 2019-06-20 15:41:28 Train loss: 1.79 Test loss: 22.15 Saving ./checkpoint/yolov3_test_loss=22.1487.ckpt ...\n"
     ]
    },
    {
     "name": "stderr",
     "output_type": "stream",
     "text": [
      "train loss: 3.94: 100%|██████████| 396/396 [02:25<00:00,  2.59it/s] \n"
     ]
    },
    {
     "name": "stdout",
     "output_type": "stream",
     "text": [
      "=> Epoch: 74 Time: 2019-06-20 15:44:01 Train loss: 1.77 Test loss: 21.80 Saving ./checkpoint/yolov3_test_loss=21.8024.ckpt ...\n"
     ]
    },
    {
     "name": "stderr",
     "output_type": "stream",
     "text": [
      "train loss: 0.98: 100%|██████████| 396/396 [02:25<00:00,  2.38it/s]\n"
     ]
    },
    {
     "name": "stdout",
     "output_type": "stream",
     "text": [
      "=> Epoch: 75 Time: 2019-06-20 15:46:36 Train loss: 1.79 Test loss: 21.35 Saving ./checkpoint/yolov3_test_loss=21.3498.ckpt ...\n"
     ]
    },
    {
     "name": "stderr",
     "output_type": "stream",
     "text": [
      "train loss: 1.81: 100%|██████████| 396/396 [02:24<00:00,  2.51it/s]\n"
     ]
    },
    {
     "name": "stdout",
     "output_type": "stream",
     "text": [
      "=> Epoch: 76 Time: 2019-06-20 15:49:09 Train loss: 1.81 Test loss: 21.52 Saving ./checkpoint/yolov3_test_loss=21.5235.ckpt ...\n"
     ]
    },
    {
     "name": "stderr",
     "output_type": "stream",
     "text": [
      "train loss: 1.17: 100%|██████████| 396/396 [02:20<00:00,  3.45it/s]\n"
     ]
    },
    {
     "name": "stdout",
     "output_type": "stream",
     "text": [
      "=> Epoch: 77 Time: 2019-06-20 15:51:38 Train loss: 1.76 Test loss: 21.02 Saving ./checkpoint/yolov3_test_loss=21.0227.ckpt ...\n"
     ]
    },
    {
     "name": "stderr",
     "output_type": "stream",
     "text": [
      "train loss: 1.29: 100%|██████████| 396/396 [02:23<00:00,  2.36it/s]\n"
     ]
    },
    {
     "name": "stdout",
     "output_type": "stream",
     "text": [
      "=> Epoch: 78 Time: 2019-06-20 15:54:11 Train loss: 1.79 Test loss: 21.51 Saving ./checkpoint/yolov3_test_loss=21.5133.ckpt ...\n"
     ]
    },
    {
     "name": "stderr",
     "output_type": "stream",
     "text": [
      "train loss: 2.49: 100%|██████████| 396/396 [02:20<00:00,  2.13it/s]\n"
     ]
    },
    {
     "name": "stdout",
     "output_type": "stream",
     "text": [
      "=> Epoch: 79 Time: 2019-06-20 15:56:40 Train loss: 1.78 Test loss: 21.27 Saving ./checkpoint/yolov3_test_loss=21.2682.ckpt ...\n"
     ]
    },
    {
     "name": "stderr",
     "output_type": "stream",
     "text": [
      "train loss: 1.68: 100%|██████████| 396/396 [02:19<00:00,  3.34it/s]\n"
     ]
    },
    {
     "name": "stdout",
     "output_type": "stream",
     "text": [
      "=> Epoch: 80 Time: 2019-06-20 15:59:08 Train loss: 1.82 Test loss: 21.08 Saving ./checkpoint/yolov3_test_loss=21.0781.ckpt ...\n"
     ]
    },
    {
     "name": "stderr",
     "output_type": "stream",
     "text": [
      "train loss: 1.76: 100%|██████████| 396/396 [02:22<00:00,  2.53it/s]\n"
     ]
    },
    {
     "name": "stdout",
     "output_type": "stream",
     "text": [
      "=> Epoch: 81 Time: 2019-06-20 16:01:39 Train loss: 1.77 Test loss: 21.43 Saving ./checkpoint/yolov3_test_loss=21.4301.ckpt ...\n"
     ]
    },
    {
     "name": "stderr",
     "output_type": "stream",
     "text": [
      "train loss: 2.01: 100%|██████████| 396/396 [02:20<00:00,  2.72it/s]\n"
     ]
    },
    {
     "name": "stdout",
     "output_type": "stream",
     "text": [
      "=> Epoch: 82 Time: 2019-06-20 16:04:08 Train loss: 1.79 Test loss: 20.92 Saving ./checkpoint/yolov3_test_loss=20.9168.ckpt ...\n"
     ]
    },
    {
     "name": "stderr",
     "output_type": "stream",
     "text": [
      "train loss: 1.91: 100%|██████████| 396/396 [02:24<00:00,  2.38it/s]\n"
     ]
    },
    {
     "name": "stdout",
     "output_type": "stream",
     "text": [
      "=> Epoch: 83 Time: 2019-06-20 16:06:42 Train loss: 1.81 Test loss: 21.42 Saving ./checkpoint/yolov3_test_loss=21.4220.ckpt ...\n"
     ]
    },
    {
     "name": "stderr",
     "output_type": "stream",
     "text": [
      "train loss: 0.82: 100%|██████████| 396/396 [02:21<00:00,  2.61it/s] \n"
     ]
    },
    {
     "name": "stdout",
     "output_type": "stream",
     "text": [
      "=> Epoch: 84 Time: 2019-06-20 16:09:12 Train loss: 1.78 Test loss: 21.22 Saving ./checkpoint/yolov3_test_loss=21.2249.ckpt ...\n"
     ]
    },
    {
     "name": "stderr",
     "output_type": "stream",
     "text": [
      "train loss: 0.55: 100%|██████████| 396/396 [02:24<00:00,  2.92it/s]\n"
     ]
    },
    {
     "name": "stdout",
     "output_type": "stream",
     "text": [
      "=> Epoch: 85 Time: 2019-06-20 16:11:45 Train loss: 1.77 Test loss: 21.07 Saving ./checkpoint/yolov3_test_loss=21.0686.ckpt ...\n"
     ]
    },
    {
     "name": "stderr",
     "output_type": "stream",
     "text": [
      "train loss: 2.07: 100%|██████████| 396/396 [02:23<00:00,  2.74it/s]\n"
     ]
    },
    {
     "name": "stdout",
     "output_type": "stream",
     "text": [
      "=> Epoch: 86 Time: 2019-06-20 16:14:17 Train loss: 1.76 Test loss: 20.87 Saving ./checkpoint/yolov3_test_loss=20.8692.ckpt ...\n"
     ]
    },
    {
     "name": "stderr",
     "output_type": "stream",
     "text": [
      "train loss: 0.96: 100%|██████████| 396/396 [02:20<00:00,  2.39it/s]\n"
     ]
    },
    {
     "name": "stdout",
     "output_type": "stream",
     "text": [
      "=> Epoch: 87 Time: 2019-06-20 16:16:46 Train loss: 1.77 Test loss: 21.19 Saving ./checkpoint/yolov3_test_loss=21.1948.ckpt ...\n"
     ]
    },
    {
     "name": "stderr",
     "output_type": "stream",
     "text": [
      "train loss: 1.91: 100%|██████████| 396/396 [02:22<00:00,  2.45it/s]\n"
     ]
    },
    {
     "name": "stdout",
     "output_type": "stream",
     "text": [
      "=> Epoch: 88 Time: 2019-06-20 16:19:17 Train loss: 1.79 Test loss: 21.35 Saving ./checkpoint/yolov3_test_loss=21.3479.ckpt ...\n"
     ]
    },
    {
     "name": "stderr",
     "output_type": "stream",
     "text": [
      "train loss: 1.42: 100%|██████████| 396/396 [02:24<00:00,  3.00it/s]\n"
     ]
    },
    {
     "name": "stdout",
     "output_type": "stream",
     "text": [
      "=> Epoch: 89 Time: 2019-06-20 16:21:50 Train loss: 1.81 Test loss: 21.17 Saving ./checkpoint/yolov3_test_loss=21.1669.ckpt ...\n"
     ]
    },
    {
     "name": "stderr",
     "output_type": "stream",
     "text": [
      "train loss: 2.42: 100%|██████████| 396/396 [02:26<00:00,  3.18it/s]\n"
     ]
    },
    {
     "name": "stdout",
     "output_type": "stream",
     "text": [
      "=> Epoch: 90 Time: 2019-06-20 16:24:25 Train loss: 1.80 Test loss: 20.87 Saving ./checkpoint/yolov3_test_loss=20.8664.ckpt ...\n"
     ]
    },
    {
     "name": "stderr",
     "output_type": "stream",
     "text": [
      "train loss: 0.50: 100%|██████████| 396/396 [02:23<00:00,  2.96it/s]\n"
     ]
    },
    {
     "name": "stdout",
     "output_type": "stream",
     "text": [
      "=> Epoch: 91 Time: 2019-06-20 16:26:58 Train loss: 1.77 Test loss: 20.75 Saving ./checkpoint/yolov3_test_loss=20.7534.ckpt ...\n"
     ]
    },
    {
     "name": "stderr",
     "output_type": "stream",
     "text": [
      "train loss: 4.00: 100%|██████████| 396/396 [02:23<00:00,  2.30it/s]\n"
     ]
    },
    {
     "name": "stdout",
     "output_type": "stream",
     "text": [
      "=> Epoch: 92 Time: 2019-06-20 16:29:30 Train loss: 1.79 Test loss: 21.81 Saving ./checkpoint/yolov3_test_loss=21.8067.ckpt ...\n"
     ]
    },
    {
     "name": "stderr",
     "output_type": "stream",
     "text": [
      "train loss: 1.11: 100%|██████████| 396/396 [02:19<00:00,  3.16it/s]\n"
     ]
    },
    {
     "name": "stdout",
     "output_type": "stream",
     "text": [
      "=> Epoch: 93 Time: 2019-06-20 16:31:58 Train loss: 1.76 Test loss: 21.14 Saving ./checkpoint/yolov3_test_loss=21.1436.ckpt ...\n"
     ]
    },
    {
     "name": "stderr",
     "output_type": "stream",
     "text": [
      "train loss: 1.00: 100%|██████████| 396/396 [02:21<00:00,  3.07it/s]\n"
     ]
    },
    {
     "name": "stdout",
     "output_type": "stream",
     "text": [
      "=> Epoch: 94 Time: 2019-06-20 16:34:28 Train loss: 1.78 Test loss: 21.70 Saving ./checkpoint/yolov3_test_loss=21.7029.ckpt ...\n"
     ]
    },
    {
     "name": "stderr",
     "output_type": "stream",
     "text": [
      "train loss: 2.21: 100%|██████████| 396/396 [02:26<00:00,  2.82it/s]\n"
     ]
    },
    {
     "name": "stdout",
     "output_type": "stream",
     "text": [
      "=> Epoch: 95 Time: 2019-06-20 16:37:03 Train loss: 1.81 Test loss: 20.55 Saving ./checkpoint/yolov3_test_loss=20.5500.ckpt ...\n"
     ]
    },
    {
     "name": "stderr",
     "output_type": "stream",
     "text": [
      "train loss: 1.25: 100%|██████████| 396/396 [02:23<00:00,  2.77it/s]\n"
     ]
    },
    {
     "name": "stdout",
     "output_type": "stream",
     "text": [
      "=> Epoch: 96 Time: 2019-06-20 16:39:36 Train loss: 1.77 Test loss: 20.87 Saving ./checkpoint/yolov3_test_loss=20.8658.ckpt ...\n"
     ]
    },
    {
     "name": "stderr",
     "output_type": "stream",
     "text": [
      "train loss: 3.08: 100%|██████████| 396/396 [02:21<00:00,  2.34it/s]\n"
     ]
    },
    {
     "name": "stdout",
     "output_type": "stream",
     "text": [
      "=> Epoch: 97 Time: 2019-06-20 16:42:05 Train loss: 1.74 Test loss: 22.13 Saving ./checkpoint/yolov3_test_loss=22.1266.ckpt ...\n"
     ]
    },
    {
     "name": "stderr",
     "output_type": "stream",
     "text": [
      "train loss: 0.74: 100%|██████████| 396/396 [02:22<00:00,  3.63it/s]\n"
     ]
    },
    {
     "name": "stdout",
     "output_type": "stream",
     "text": [
      "=> Epoch: 98 Time: 2019-06-20 16:44:36 Train loss: 1.77 Test loss: 21.91 Saving ./checkpoint/yolov3_test_loss=21.9124.ckpt ...\n"
     ]
    },
    {
     "name": "stderr",
     "output_type": "stream",
     "text": [
      "train loss: 1.43: 100%|██████████| 396/396 [02:20<00:00,  2.96it/s]\n"
     ]
    },
    {
     "name": "stdout",
     "output_type": "stream",
     "text": [
      "=> Epoch: 99 Time: 2019-06-20 16:47:05 Train loss: 1.79 Test loss: 20.50 Saving ./checkpoint/yolov3_test_loss=20.4964.ckpt ...\n"
     ]
    },
    {
     "name": "stderr",
     "output_type": "stream",
     "text": [
      "train loss: 2.22: 100%|██████████| 396/396 [02:18<00:00,  3.17it/s]\n"
     ]
    },
    {
     "name": "stdout",
     "output_type": "stream",
     "text": [
      "=> Epoch: 100 Time: 2019-06-20 16:49:32 Train loss: 1.80 Test loss: 21.02 Saving ./checkpoint/yolov3_test_loss=21.0174.ckpt ...\n"
     ]
    },
    {
     "name": "stderr",
     "output_type": "stream",
     "text": [
      "train loss: 0.87: 100%|██████████| 396/396 [02:22<00:00,  2.68it/s] \n"
     ]
    },
    {
     "name": "stdout",
     "output_type": "stream",
     "text": [
      "=> Epoch: 101 Time: 2019-06-20 16:52:03 Train loss: 1.79 Test loss: 20.78 Saving ./checkpoint/yolov3_test_loss=20.7754.ckpt ...\n"
     ]
    },
    {
     "name": "stderr",
     "output_type": "stream",
     "text": [
      "train loss: 1.79: 100%|██████████| 396/396 [02:20<00:00,  2.16it/s]\n"
     ]
    },
    {
     "name": "stdout",
     "output_type": "stream",
     "text": [
      "=> Epoch: 102 Time: 2019-06-20 16:54:32 Train loss: 1.76 Test loss: 21.40 Saving ./checkpoint/yolov3_test_loss=21.4014.ckpt ...\n"
     ]
    },
    {
     "name": "stderr",
     "output_type": "stream",
     "text": [
      "train loss: 0.79: 100%|██████████| 396/396 [02:23<00:00,  2.63it/s]\n"
     ]
    },
    {
     "name": "stdout",
     "output_type": "stream",
     "text": [
      "=> Epoch: 103 Time: 2019-06-20 16:57:04 Train loss: 1.75 Test loss: 21.57 Saving ./checkpoint/yolov3_test_loss=21.5690.ckpt ...\n"
     ]
    },
    {
     "name": "stderr",
     "output_type": "stream",
     "text": [
      "train loss: 0.92: 100%|██████████| 396/396 [02:26<00:00,  2.64it/s]\n"
     ]
    },
    {
     "name": "stdout",
     "output_type": "stream",
     "text": [
      "=> Epoch: 104 Time: 2019-06-20 16:59:39 Train loss: 1.78 Test loss: 21.46 Saving ./checkpoint/yolov3_test_loss=21.4633.ckpt ...\n"
     ]
    },
    {
     "name": "stderr",
     "output_type": "stream",
     "text": [
      "train loss: 1.53: 100%|██████████| 396/396 [02:25<00:00,  3.45it/s]\n"
     ]
    },
    {
     "name": "stdout",
     "output_type": "stream",
     "text": [
      "=> Epoch: 105 Time: 2019-06-20 17:02:12 Train loss: 1.78 Test loss: 21.13 Saving ./checkpoint/yolov3_test_loss=21.1281.ckpt ...\n"
     ]
    },
    {
     "name": "stderr",
     "output_type": "stream",
     "text": [
      "train loss: 1.49: 100%|██████████| 396/396 [02:23<00:00,  3.18it/s]\n"
     ]
    },
    {
     "name": "stdout",
     "output_type": "stream",
     "text": [
      "=> Epoch: 106 Time: 2019-06-20 17:04:44 Train loss: 1.77 Test loss: 21.10 Saving ./checkpoint/yolov3_test_loss=21.1017.ckpt ...\n"
     ]
    },
    {
     "name": "stderr",
     "output_type": "stream",
     "text": [
      "train loss: 0.96: 100%|██████████| 396/396 [02:19<00:00,  2.95it/s]\n"
     ]
    },
    {
     "name": "stdout",
     "output_type": "stream",
     "text": [
      "=> Epoch: 107 Time: 2019-06-20 17:07:13 Train loss: 1.79 Test loss: 21.27 Saving ./checkpoint/yolov3_test_loss=21.2729.ckpt ...\n"
     ]
    },
    {
     "name": "stderr",
     "output_type": "stream",
     "text": [
      "train loss: 1.02: 100%|██████████| 396/396 [02:23<00:00,  2.84it/s]\n"
     ]
    },
    {
     "name": "stdout",
     "output_type": "stream",
     "text": [
      "=> Epoch: 108 Time: 2019-06-20 17:09:44 Train loss: 1.79 Test loss: 20.47 Saving ./checkpoint/yolov3_test_loss=20.4730.ckpt ...\n"
     ]
    },
    {
     "name": "stderr",
     "output_type": "stream",
     "text": [
      "train loss: 1.67: 100%|██████████| 396/396 [02:22<00:00,  3.14it/s] \n"
     ]
    },
    {
     "name": "stdout",
     "output_type": "stream",
     "text": [
      "=> Epoch: 109 Time: 2019-06-20 17:12:16 Train loss: 1.76 Test loss: 21.47 Saving ./checkpoint/yolov3_test_loss=21.4747.ckpt ...\n"
     ]
    },
    {
     "name": "stderr",
     "output_type": "stream",
     "text": [
      "train loss: 1.15: 100%|██████████| 396/396 [02:21<00:00,  2.07it/s]\n"
     ]
    },
    {
     "name": "stdout",
     "output_type": "stream",
     "text": [
      "=> Epoch: 110 Time: 2019-06-20 17:14:46 Train loss: 1.78 Test loss: 20.82 Saving ./checkpoint/yolov3_test_loss=20.8245.ckpt ...\n"
     ]
    },
    {
     "name": "stderr",
     "output_type": "stream",
     "text": [
      "train loss: 1.82: 100%|██████████| 396/396 [02:22<00:00,  2.96it/s]\n"
     ]
    },
    {
     "name": "stdout",
     "output_type": "stream",
     "text": [
      "=> Epoch: 111 Time: 2019-06-20 17:17:18 Train loss: 1.76 Test loss: 21.05 Saving ./checkpoint/yolov3_test_loss=21.0493.ckpt ...\n"
     ]
    },
    {
     "name": "stderr",
     "output_type": "stream",
     "text": [
      "train loss: 1.27: 100%|██████████| 396/396 [02:21<00:00,  3.22it/s]\n"
     ]
    },
    {
     "name": "stdout",
     "output_type": "stream",
     "text": [
      "=> Epoch: 112 Time: 2019-06-20 17:19:48 Train loss: 1.75 Test loss: 21.46 Saving ./checkpoint/yolov3_test_loss=21.4633.ckpt ...\n"
     ]
    },
    {
     "name": "stderr",
     "output_type": "stream",
     "text": [
      "train loss: 0.68: 100%|██████████| 396/396 [02:24<00:00,  3.14it/s]\n"
     ]
    },
    {
     "name": "stdout",
     "output_type": "stream",
     "text": [
      "=> Epoch: 113 Time: 2019-06-20 17:22:21 Train loss: 1.76 Test loss: 21.61 Saving ./checkpoint/yolov3_test_loss=21.6077.ckpt ...\n"
     ]
    },
    {
     "name": "stderr",
     "output_type": "stream",
     "text": [
      "train loss: 0.94: 100%|██████████| 396/396 [02:22<00:00,  2.71it/s]\n"
     ]
    },
    {
     "name": "stdout",
     "output_type": "stream",
     "text": [
      "=> Epoch: 114 Time: 2019-06-20 17:24:52 Train loss: 1.73 Test loss: 21.31 Saving ./checkpoint/yolov3_test_loss=21.3087.ckpt ...\n"
     ]
    },
    {
     "name": "stderr",
     "output_type": "stream",
     "text": [
      "train loss: 3.08: 100%|██████████| 396/396 [02:24<00:00,  2.60it/s]\n"
     ]
    },
    {
     "name": "stdout",
     "output_type": "stream",
     "text": [
      "=> Epoch: 115 Time: 2019-06-20 17:27:26 Train loss: 1.75 Test loss: 21.13 Saving ./checkpoint/yolov3_test_loss=21.1278.ckpt ...\n"
     ]
    },
    {
     "name": "stderr",
     "output_type": "stream",
     "text": [
      "train loss: 1.12: 100%|██████████| 396/396 [02:23<00:00,  3.21it/s]\n"
     ]
    },
    {
     "name": "stdout",
     "output_type": "stream",
     "text": [
      "=> Epoch: 116 Time: 2019-06-20 17:29:58 Train loss: 1.78 Test loss: 21.46 Saving ./checkpoint/yolov3_test_loss=21.4614.ckpt ...\n"
     ]
    },
    {
     "name": "stderr",
     "output_type": "stream",
     "text": [
      "train loss: 2.13: 100%|██████████| 396/396 [02:23<00:00,  2.63it/s]\n"
     ]
    },
    {
     "name": "stdout",
     "output_type": "stream",
     "text": [
      "=> Epoch: 117 Time: 2019-06-20 17:32:30 Train loss: 1.79 Test loss: 21.76 Saving ./checkpoint/yolov3_test_loss=21.7620.ckpt ...\n"
     ]
    },
    {
     "name": "stderr",
     "output_type": "stream",
     "text": [
      "train loss: 2.16: 100%|██████████| 396/396 [02:21<00:00,  2.69it/s]\n"
     ]
    },
    {
     "name": "stdout",
     "output_type": "stream",
     "text": [
      "=> Epoch: 118 Time: 2019-06-20 17:35:01 Train loss: 1.77 Test loss: 21.47 Saving ./checkpoint/yolov3_test_loss=21.4652.ckpt ...\n"
     ]
    },
    {
     "name": "stderr",
     "output_type": "stream",
     "text": [
      "train loss: 1.52: 100%|██████████| 396/396 [02:21<00:00,  2.76it/s]\n"
     ]
    },
    {
     "name": "stdout",
     "output_type": "stream",
     "text": [
      "=> Epoch: 119 Time: 2019-06-20 17:37:31 Train loss: 1.79 Test loss: 21.54 Saving ./checkpoint/yolov3_test_loss=21.5436.ckpt ...\n"
     ]
    },
    {
     "name": "stderr",
     "output_type": "stream",
     "text": [
      "train loss: 1.27: 100%|██████████| 396/396 [02:25<00:00,  2.88it/s]\n"
     ]
    },
    {
     "name": "stdout",
     "output_type": "stream",
     "text": [
      "=> Epoch: 120 Time: 2019-06-20 17:40:05 Train loss: 1.76 Test loss: 21.59 Saving ./checkpoint/yolov3_test_loss=21.5882.ckpt ...\n"
     ]
    },
    {
     "name": "stderr",
     "output_type": "stream",
     "text": [
      "train loss: 1.47: 100%|██████████| 396/396 [02:19<00:00,  2.16it/s]\n"
     ]
    },
    {
     "name": "stdout",
     "output_type": "stream",
     "text": [
      "=> Epoch: 121 Time: 2019-06-20 17:42:33 Train loss: 1.72 Test loss: 21.12 Saving ./checkpoint/yolov3_test_loss=21.1154.ckpt ...\n"
     ]
    },
    {
     "name": "stderr",
     "output_type": "stream",
     "text": [
      "train loss: 1.11: 100%|██████████| 396/396 [02:24<00:00,  2.59it/s]\n"
     ]
    },
    {
     "name": "stdout",
     "output_type": "stream",
     "text": [
      "=> Epoch: 122 Time: 2019-06-20 17:45:06 Train loss: 1.74 Test loss: 20.74 Saving ./checkpoint/yolov3_test_loss=20.7422.ckpt ...\n"
     ]
    },
    {
     "name": "stderr",
     "output_type": "stream",
     "text": [
      "train loss: 0.94: 100%|██████████| 396/396 [02:26<00:00,  2.71it/s]\n"
     ]
    },
    {
     "name": "stdout",
     "output_type": "stream",
     "text": [
      "=> Epoch: 123 Time: 2019-06-20 17:47:41 Train loss: 1.77 Test loss: 21.22 Saving ./checkpoint/yolov3_test_loss=21.2241.ckpt ...\n"
     ]
    },
    {
     "name": "stderr",
     "output_type": "stream",
     "text": [
      "train loss: 1.33: 100%|██████████| 396/396 [02:21<00:00,  3.00it/s]\n"
     ]
    },
    {
     "name": "stdout",
     "output_type": "stream",
     "text": [
      "=> Epoch: 124 Time: 2019-06-20 17:50:11 Train loss: 1.77 Test loss: 21.86 Saving ./checkpoint/yolov3_test_loss=21.8634.ckpt ...\n"
     ]
    },
    {
     "name": "stderr",
     "output_type": "stream",
     "text": [
      "train loss: 1.01: 100%|██████████| 396/396 [02:23<00:00,  2.59it/s]\n"
     ]
    },
    {
     "name": "stdout",
     "output_type": "stream",
     "text": [
      "=> Epoch: 125 Time: 2019-06-20 17:52:42 Train loss: 1.75 Test loss: 21.76 Saving ./checkpoint/yolov3_test_loss=21.7584.ckpt ...\n"
     ]
    },
    {
     "name": "stderr",
     "output_type": "stream",
     "text": [
      "train loss: 1.12: 100%|██████████| 396/396 [02:24<00:00,  2.83it/s]\n"
     ]
    },
    {
     "name": "stdout",
     "output_type": "stream",
     "text": [
      "=> Epoch: 126 Time: 2019-06-20 17:55:16 Train loss: 1.77 Test loss: 20.84 Saving ./checkpoint/yolov3_test_loss=20.8385.ckpt ...\n"
     ]
    },
    {
     "name": "stderr",
     "output_type": "stream",
     "text": [
      "train loss: 1.82: 100%|██████████| 396/396 [02:21<00:00,  2.94it/s]\n"
     ]
    },
    {
     "name": "stdout",
     "output_type": "stream",
     "text": [
      "=> Epoch: 127 Time: 2019-06-20 17:57:46 Train loss: 1.73 Test loss: 21.28 Saving ./checkpoint/yolov3_test_loss=21.2825.ckpt ...\n"
     ]
    },
    {
     "name": "stderr",
     "output_type": "stream",
     "text": [
      "train loss: 1.69: 100%|██████████| 396/396 [02:22<00:00,  3.09it/s]\n"
     ]
    },
    {
     "name": "stdout",
     "output_type": "stream",
     "text": [
      "=> Epoch: 128 Time: 2019-06-20 18:00:18 Train loss: 1.77 Test loss: 21.73 Saving ./checkpoint/yolov3_test_loss=21.7315.ckpt ...\n"
     ]
    },
    {
     "name": "stderr",
     "output_type": "stream",
     "text": [
      "train loss: 1.69: 100%|██████████| 396/396 [02:21<00:00,  2.42it/s]\n"
     ]
    },
    {
     "name": "stdout",
     "output_type": "stream",
     "text": [
      "=> Epoch: 129 Time: 2019-06-20 18:02:48 Train loss: 1.77 Test loss: 20.73 Saving ./checkpoint/yolov3_test_loss=20.7295.ckpt ...\n"
     ]
    },
    {
     "name": "stderr",
     "output_type": "stream",
     "text": [
      "train loss: 1.68: 100%|██████████| 396/396 [02:22<00:00,  2.83it/s]\n"
     ]
    },
    {
     "name": "stdout",
     "output_type": "stream",
     "text": [
      "=> Epoch: 130 Time: 2019-06-20 18:05:19 Train loss: 1.78 Test loss: 20.44 Saving ./checkpoint/yolov3_test_loss=20.4441.ckpt ...\n"
     ]
    },
    {
     "name": "stderr",
     "output_type": "stream",
     "text": [
      "train loss: 2.88: 100%|██████████| 396/396 [02:25<00:00,  2.89it/s]\n"
     ]
    },
    {
     "name": "stdout",
     "output_type": "stream",
     "text": [
      "=> Epoch: 131 Time: 2019-06-20 18:07:53 Train loss: 1.72 Test loss: 20.80 Saving ./checkpoint/yolov3_test_loss=20.7959.ckpt ...\n"
     ]
    },
    {
     "name": "stderr",
     "output_type": "stream",
     "text": [
      "train loss: 0.97: 100%|██████████| 396/396 [02:24<00:00,  3.17it/s]\n"
     ]
    },
    {
     "name": "stdout",
     "output_type": "stream",
     "text": [
      "=> Epoch: 132 Time: 2019-06-20 18:10:25 Train loss: 1.75 Test loss: 21.02 Saving ./checkpoint/yolov3_test_loss=21.0168.ckpt ...\n"
     ]
    },
    {
     "name": "stderr",
     "output_type": "stream",
     "text": [
      "train loss: 3.35: 100%|██████████| 396/396 [02:24<00:00,  2.19it/s]\n"
     ]
    },
    {
     "name": "stdout",
     "output_type": "stream",
     "text": [
      "=> Epoch: 133 Time: 2019-06-20 18:12:58 Train loss: 1.71 Test loss: 22.14 Saving ./checkpoint/yolov3_test_loss=22.1446.ckpt ...\n"
     ]
    },
    {
     "name": "stderr",
     "output_type": "stream",
     "text": [
      "train loss: 0.93: 100%|██████████| 396/396 [02:26<00:00,  2.82it/s]\n"
     ]
    },
    {
     "name": "stdout",
     "output_type": "stream",
     "text": [
      "=> Epoch: 134 Time: 2019-06-20 18:15:32 Train loss: 1.74 Test loss: 20.60 Saving ./checkpoint/yolov3_test_loss=20.5952.ckpt ...\n"
     ]
    },
    {
     "name": "stderr",
     "output_type": "stream",
     "text": [
      "train loss: 2.21: 100%|██████████| 396/396 [02:26<00:00,  3.11it/s]\n"
     ]
    },
    {
     "name": "stdout",
     "output_type": "stream",
     "text": [
      "=> Epoch: 135 Time: 2019-06-20 18:18:07 Train loss: 1.74 Test loss: 20.88 Saving ./checkpoint/yolov3_test_loss=20.8760.ckpt ...\n"
     ]
    },
    {
     "name": "stderr",
     "output_type": "stream",
     "text": [
      "train loss: 1.25: 100%|██████████| 396/396 [02:23<00:00,  2.72it/s]\n"
     ]
    },
    {
     "name": "stdout",
     "output_type": "stream",
     "text": [
      "=> Epoch: 136 Time: 2019-06-20 18:20:40 Train loss: 1.74 Test loss: 21.72 Saving ./checkpoint/yolov3_test_loss=21.7210.ckpt ...\n"
     ]
    },
    {
     "name": "stderr",
     "output_type": "stream",
     "text": [
      "train loss: 1.79: 100%|██████████| 396/396 [02:25<00:00,  2.70it/s] \n"
     ]
    },
    {
     "name": "stdout",
     "output_type": "stream",
     "text": [
      "=> Epoch: 137 Time: 2019-06-20 18:23:14 Train loss: 1.76 Test loss: 21.79 Saving ./checkpoint/yolov3_test_loss=21.7873.ckpt ...\n"
     ]
    },
    {
     "name": "stderr",
     "output_type": "stream",
     "text": [
      "train loss: 1.21: 100%|██████████| 396/396 [02:25<00:00,  3.71it/s]\n"
     ]
    },
    {
     "name": "stdout",
     "output_type": "stream",
     "text": [
      "=> Epoch: 138 Time: 2019-06-20 18:25:48 Train loss: 1.75 Test loss: 20.62 Saving ./checkpoint/yolov3_test_loss=20.6175.ckpt ...\n"
     ]
    },
    {
     "name": "stderr",
     "output_type": "stream",
     "text": [
      "train loss: 1.37: 100%|██████████| 396/396 [02:25<00:00,  2.96it/s]\n"
     ]
    },
    {
     "name": "stdout",
     "output_type": "stream",
     "text": [
      "=> Epoch: 139 Time: 2019-06-20 18:28:22 Train loss: 1.75 Test loss: 21.90 Saving ./checkpoint/yolov3_test_loss=21.9004.ckpt ...\n"
     ]
    },
    {
     "name": "stderr",
     "output_type": "stream",
     "text": [
      "train loss: 0.79: 100%|██████████| 396/396 [02:24<00:00,  2.95it/s]\n"
     ]
    },
    {
     "name": "stdout",
     "output_type": "stream",
     "text": [
      "=> Epoch: 140 Time: 2019-06-20 18:30:55 Train loss: 1.72 Test loss: 21.56 Saving ./checkpoint/yolov3_test_loss=21.5646.ckpt ...\n"
     ]
    },
    {
     "name": "stderr",
     "output_type": "stream",
     "text": [
      "train loss: 1.57: 100%|██████████| 396/396 [02:23<00:00,  2.70it/s]\n"
     ]
    },
    {
     "name": "stdout",
     "output_type": "stream",
     "text": [
      "=> Epoch: 141 Time: 2019-06-20 18:33:27 Train loss: 1.77 Test loss: 22.06 Saving ./checkpoint/yolov3_test_loss=22.0579.ckpt ...\n"
     ]
    },
    {
     "name": "stderr",
     "output_type": "stream",
     "text": [
      "train loss: 0.98: 100%|██████████| 396/396 [02:22<00:00,  2.49it/s]\n"
     ]
    },
    {
     "name": "stdout",
     "output_type": "stream",
     "text": [
      "=> Epoch: 142 Time: 2019-06-20 18:35:59 Train loss: 1.73 Test loss: 21.01 Saving ./checkpoint/yolov3_test_loss=21.0095.ckpt ...\n"
     ]
    },
    {
     "name": "stderr",
     "output_type": "stream",
     "text": [
      "train loss: 1.07: 100%|██████████| 396/396 [02:27<00:00,  3.24it/s]\n"
     ]
    },
    {
     "name": "stdout",
     "output_type": "stream",
     "text": [
      "=> Epoch: 143 Time: 2019-06-20 18:38:35 Train loss: 1.75 Test loss: 21.18 Saving ./checkpoint/yolov3_test_loss=21.1832.ckpt ...\n"
     ]
    },
    {
     "name": "stderr",
     "output_type": "stream",
     "text": [
      "train loss: 1.41: 100%|██████████| 396/396 [02:24<00:00,  2.85it/s]\n"
     ]
    },
    {
     "name": "stdout",
     "output_type": "stream",
     "text": [
      "=> Epoch: 144 Time: 2019-06-20 18:41:09 Train loss: 1.70 Test loss: 22.11 Saving ./checkpoint/yolov3_test_loss=22.1056.ckpt ...\n"
     ]
    },
    {
     "name": "stderr",
     "output_type": "stream",
     "text": [
      "train loss: 1.03: 100%|██████████| 396/396 [02:21<00:00,  2.24it/s]\n"
     ]
    },
    {
     "name": "stdout",
     "output_type": "stream",
     "text": [
      "=> Epoch: 145 Time: 2019-06-20 18:43:40 Train loss: 1.73 Test loss: 21.18 Saving ./checkpoint/yolov3_test_loss=21.1839.ckpt ...\n"
     ]
    },
    {
     "name": "stderr",
     "output_type": "stream",
     "text": [
      "train loss: 0.87: 100%|██████████| 396/396 [02:25<00:00,  3.04it/s]\n"
     ]
    },
    {
     "name": "stdout",
     "output_type": "stream",
     "text": [
      "=> Epoch: 146 Time: 2019-06-20 18:46:14 Train loss: 1.76 Test loss: 21.45 Saving ./checkpoint/yolov3_test_loss=21.4471.ckpt ...\n"
     ]
    },
    {
     "name": "stderr",
     "output_type": "stream",
     "text": [
      "train loss: 2.88: 100%|██████████| 396/396 [02:22<00:00,  2.61it/s]\n"
     ]
    },
    {
     "name": "stdout",
     "output_type": "stream",
     "text": [
      "=> Epoch: 147 Time: 2019-06-20 18:48:45 Train loss: 1.73 Test loss: 21.81 Saving ./checkpoint/yolov3_test_loss=21.8139.ckpt ...\n"
     ]
    },
    {
     "name": "stderr",
     "output_type": "stream",
     "text": [
      "train loss: 1.05: 100%|██████████| 396/396 [02:25<00:00,  2.89it/s]\n"
     ]
    },
    {
     "name": "stdout",
     "output_type": "stream",
     "text": [
      "=> Epoch: 148 Time: 2019-06-20 18:51:19 Train loss: 1.70 Test loss: 22.16 Saving ./checkpoint/yolov3_test_loss=22.1595.ckpt ...\n"
     ]
    },
    {
     "name": "stderr",
     "output_type": "stream",
     "text": [
      "train loss: 1.37: 100%|██████████| 396/396 [02:24<00:00,  2.50it/s] \n"
     ]
    },
    {
     "name": "stdout",
     "output_type": "stream",
     "text": [
      "=> Epoch: 149 Time: 2019-06-20 18:53:52 Train loss: 1.72 Test loss: 22.04 Saving ./checkpoint/yolov3_test_loss=22.0431.ckpt ...\n"
     ]
    },
    {
     "name": "stderr",
     "output_type": "stream",
     "text": [
      "train loss: 1.56: 100%|██████████| 396/396 [02:21<00:00,  2.48it/s]\n"
     ]
    },
    {
     "name": "stdout",
     "output_type": "stream",
     "text": [
      "=> Epoch: 150 Time: 2019-06-20 18:56:23 Train loss: 1.74 Test loss: 21.46 Saving ./checkpoint/yolov3_test_loss=21.4601.ckpt ...\n"
     ]
    },
    {
     "name": "stderr",
     "output_type": "stream",
     "text": [
      "train loss: 1.97: 100%|██████████| 396/396 [02:24<00:00,  2.59it/s]\n"
     ]
    },
    {
     "name": "stdout",
     "output_type": "stream",
     "text": [
      "=> Epoch: 151 Time: 2019-06-20 18:58:56 Train loss: 1.72 Test loss: 20.79 Saving ./checkpoint/yolov3_test_loss=20.7939.ckpt ...\n"
     ]
    },
    {
     "name": "stderr",
     "output_type": "stream",
     "text": [
      "train loss: 1.37: 100%|██████████| 396/396 [02:23<00:00,  2.56it/s]\n"
     ]
    },
    {
     "name": "stdout",
     "output_type": "stream",
     "text": [
      "=> Epoch: 152 Time: 2019-06-20 19:01:28 Train loss: 1.74 Test loss: 21.42 Saving ./checkpoint/yolov3_test_loss=21.4225.ckpt ...\n"
     ]
    },
    {
     "name": "stderr",
     "output_type": "stream",
     "text": [
      "train loss: 0.98: 100%|██████████| 396/396 [02:24<00:00,  2.71it/s]\n"
     ]
    },
    {
     "name": "stdout",
     "output_type": "stream",
     "text": [
      "=> Epoch: 153 Time: 2019-06-20 19:04:01 Train loss: 1.70 Test loss: 21.51 Saving ./checkpoint/yolov3_test_loss=21.5116.ckpt ...\n"
     ]
    },
    {
     "name": "stderr",
     "output_type": "stream",
     "text": [
      "train loss: 3.35: 100%|██████████| 396/396 [02:24<00:00,  2.28it/s]\n"
     ]
    },
    {
     "name": "stdout",
     "output_type": "stream",
     "text": [
      "=> Epoch: 154 Time: 2019-06-20 19:06:34 Train loss: 1.77 Test loss: 21.53 Saving ./checkpoint/yolov3_test_loss=21.5301.ckpt ...\n"
     ]
    },
    {
     "name": "stderr",
     "output_type": "stream",
     "text": [
      "train loss: 1.26: 100%|██████████| 396/396 [02:27<00:00,  2.99it/s]\n"
     ]
    },
    {
     "name": "stdout",
     "output_type": "stream",
     "text": [
      "=> Epoch: 155 Time: 2019-06-20 19:09:09 Train loss: 1.74 Test loss: 21.20 Saving ./checkpoint/yolov3_test_loss=21.1972.ckpt ...\n"
     ]
    },
    {
     "name": "stderr",
     "output_type": "stream",
     "text": [
      "train loss: 4.35: 100%|██████████| 396/396 [02:20<00:00,  2.94it/s]\n"
     ]
    },
    {
     "name": "stdout",
     "output_type": "stream",
     "text": [
      "=> Epoch: 156 Time: 2019-06-20 19:11:38 Train loss: 1.73 Test loss: 22.01 Saving ./checkpoint/yolov3_test_loss=22.0107.ckpt ...\n"
     ]
    },
    {
     "name": "stderr",
     "output_type": "stream",
     "text": [
      "train loss: 1.84: 100%|██████████| 396/396 [02:22<00:00,  2.59it/s] \n"
     ]
    },
    {
     "name": "stdout",
     "output_type": "stream",
     "text": [
      "=> Epoch: 157 Time: 2019-06-20 19:14:10 Train loss: 1.71 Test loss: 20.91 Saving ./checkpoint/yolov3_test_loss=20.9107.ckpt ...\n"
     ]
    },
    {
     "name": "stderr",
     "output_type": "stream",
     "text": [
      "train loss: 1.07: 100%|██████████| 396/396 [02:22<00:00,  2.32it/s]\n"
     ]
    },
    {
     "name": "stdout",
     "output_type": "stream",
     "text": [
      "=> Epoch: 158 Time: 2019-06-20 19:16:41 Train loss: 1.76 Test loss: 21.28 Saving ./checkpoint/yolov3_test_loss=21.2774.ckpt ...\n"
     ]
    },
    {
     "name": "stderr",
     "output_type": "stream",
     "text": [
      "train loss: 2.97: 100%|██████████| 396/396 [02:23<00:00,  2.47it/s]\n"
     ]
    },
    {
     "name": "stdout",
     "output_type": "stream",
     "text": [
      "=> Epoch: 159 Time: 2019-06-20 19:19:14 Train loss: 1.72 Test loss: 21.25 Saving ./checkpoint/yolov3_test_loss=21.2479.ckpt ...\n"
     ]
    },
    {
     "name": "stderr",
     "output_type": "stream",
     "text": [
      "train loss: 0.93: 100%|██████████| 396/396 [02:23<00:00,  2.43it/s]\n"
     ]
    },
    {
     "name": "stdout",
     "output_type": "stream",
     "text": [
      "=> Epoch: 160 Time: 2019-06-20 19:21:46 Train loss: 1.71 Test loss: 22.18 Saving ./checkpoint/yolov3_test_loss=22.1761.ckpt ...\n"
     ]
    },
    {
     "name": "stderr",
     "output_type": "stream",
     "text": [
      "train loss: 0.93: 100%|██████████| 396/396 [02:24<00:00,  2.58it/s]\n"
     ]
    },
    {
     "name": "stdout",
     "output_type": "stream",
     "text": [
      "=> Epoch: 161 Time: 2019-06-20 19:24:18 Train loss: 1.77 Test loss: 21.46 Saving ./checkpoint/yolov3_test_loss=21.4573.ckpt ...\n"
     ]
    },
    {
     "name": "stderr",
     "output_type": "stream",
     "text": [
      "train loss: 1.65: 100%|██████████| 396/396 [02:21<00:00,  3.11it/s]\n"
     ]
    },
    {
     "name": "stdout",
     "output_type": "stream",
     "text": [
      "=> Epoch: 162 Time: 2019-06-20 19:26:48 Train loss: 1.74 Test loss: 21.27 Saving ./checkpoint/yolov3_test_loss=21.2740.ckpt ...\n"
     ]
    },
    {
     "name": "stderr",
     "output_type": "stream",
     "text": [
      "train loss: 1.69: 100%|██████████| 396/396 [02:26<00:00,  2.81it/s]\n"
     ]
    },
    {
     "name": "stdout",
     "output_type": "stream",
     "text": [
      "=> Epoch: 163 Time: 2019-06-20 19:29:22 Train loss: 1.71 Test loss: 21.53 Saving ./checkpoint/yolov3_test_loss=21.5253.ckpt ...\n"
     ]
    },
    {
     "name": "stderr",
     "output_type": "stream",
     "text": [
      "train loss: 0.81: 100%|██████████| 396/396 [02:20<00:00,  3.65it/s]\n"
     ]
    },
    {
     "name": "stdout",
     "output_type": "stream",
     "text": [
      "=> Epoch: 164 Time: 2019-06-20 19:31:52 Train loss: 1.73 Test loss: 22.21 Saving ./checkpoint/yolov3_test_loss=22.2141.ckpt ...\n"
     ]
    },
    {
     "name": "stderr",
     "output_type": "stream",
     "text": [
      "train loss: 1.57: 100%|██████████| 396/396 [02:25<00:00,  3.15it/s]\n"
     ]
    },
    {
     "name": "stdout",
     "output_type": "stream",
     "text": [
      "=> Epoch: 165 Time: 2019-06-20 19:34:26 Train loss: 1.73 Test loss: 21.40 Saving ./checkpoint/yolov3_test_loss=21.3986.ckpt ...\n"
     ]
    },
    {
     "name": "stderr",
     "output_type": "stream",
     "text": [
      "train loss: 1.87: 100%|██████████| 396/396 [02:24<00:00,  2.97it/s]\n"
     ]
    },
    {
     "name": "stdout",
     "output_type": "stream",
     "text": [
      "=> Epoch: 166 Time: 2019-06-20 19:36:59 Train loss: 1.70 Test loss: 21.83 Saving ./checkpoint/yolov3_test_loss=21.8325.ckpt ...\n"
     ]
    },
    {
     "name": "stderr",
     "output_type": "stream",
     "text": [
      "train loss: 1.18: 100%|██████████| 396/396 [02:26<00:00,  2.78it/s]\n"
     ]
    },
    {
     "name": "stdout",
     "output_type": "stream",
     "text": [
      "=> Epoch: 167 Time: 2019-06-20 19:39:34 Train loss: 1.71 Test loss: 21.19 Saving ./checkpoint/yolov3_test_loss=21.1919.ckpt ...\n"
     ]
    },
    {
     "name": "stderr",
     "output_type": "stream",
     "text": [
      "train loss: 1.11: 100%|██████████| 396/396 [02:22<00:00,  2.85it/s]\n"
     ]
    },
    {
     "name": "stdout",
     "output_type": "stream",
     "text": [
      "=> Epoch: 168 Time: 2019-06-20 19:42:05 Train loss: 1.73 Test loss: 22.35 Saving ./checkpoint/yolov3_test_loss=22.3505.ckpt ...\n"
     ]
    },
    {
     "name": "stderr",
     "output_type": "stream",
     "text": [
      "train loss: 1.33: 100%|██████████| 396/396 [02:19<00:00,  2.99it/s]\n"
     ]
    },
    {
     "name": "stdout",
     "output_type": "stream",
     "text": [
      "=> Epoch: 169 Time: 2019-06-20 19:44:33 Train loss: 1.71 Test loss: 22.09 Saving ./checkpoint/yolov3_test_loss=22.0912.ckpt ...\n"
     ]
    },
    {
     "name": "stderr",
     "output_type": "stream",
     "text": [
      "train loss: 2.97: 100%|██████████| 396/396 [02:30<00:00,  3.49it/s]\n"
     ]
    },
    {
     "name": "stdout",
     "output_type": "stream",
     "text": [
      "=> Epoch: 170 Time: 2019-06-20 19:47:12 Train loss: 1.71 Test loss: 21.82 Saving ./checkpoint/yolov3_test_loss=21.8171.ckpt ...\n"
     ]
    },
    {
     "name": "stderr",
     "output_type": "stream",
     "text": [
      "train loss: 1.38: 100%|██████████| 396/396 [02:19<00:00,  2.45it/s]\n"
     ]
    },
    {
     "name": "stdout",
     "output_type": "stream",
     "text": [
      "=> Epoch: 171 Time: 2019-06-20 19:49:40 Train loss: 1.70 Test loss: 21.69 Saving ./checkpoint/yolov3_test_loss=21.6853.ckpt ...\n"
     ]
    },
    {
     "name": "stderr",
     "output_type": "stream",
     "text": [
      "train loss: 1.30: 100%|██████████| 396/396 [02:21<00:00,  2.70it/s]\n"
     ]
    },
    {
     "name": "stdout",
     "output_type": "stream",
     "text": [
      "=> Epoch: 172 Time: 2019-06-20 19:52:10 Train loss: 1.69 Test loss: 22.04 Saving ./checkpoint/yolov3_test_loss=22.0363.ckpt ...\n"
     ]
    },
    {
     "name": "stderr",
     "output_type": "stream",
     "text": [
      "train loss: 0.98: 100%|██████████| 396/396 [02:24<00:00,  2.59it/s]\n"
     ]
    },
    {
     "name": "stdout",
     "output_type": "stream",
     "text": [
      "=> Epoch: 173 Time: 2019-06-20 19:54:44 Train loss: 1.74 Test loss: 21.21 Saving ./checkpoint/yolov3_test_loss=21.2064.ckpt ...\n"
     ]
    },
    {
     "name": "stderr",
     "output_type": "stream",
     "text": [
      "train loss: 1.14: 100%|██████████| 396/396 [02:24<00:00,  2.30it/s]\n"
     ]
    },
    {
     "name": "stdout",
     "output_type": "stream",
     "text": [
      "=> Epoch: 174 Time: 2019-06-20 19:57:16 Train loss: 1.71 Test loss: 21.64 Saving ./checkpoint/yolov3_test_loss=21.6355.ckpt ...\n"
     ]
    },
    {
     "name": "stderr",
     "output_type": "stream",
     "text": [
      "train loss: 1.79: 100%|██████████| 396/396 [02:23<00:00,  3.31it/s]\n"
     ]
    },
    {
     "name": "stdout",
     "output_type": "stream",
     "text": [
      "=> Epoch: 175 Time: 2019-06-20 19:59:48 Train loss: 1.72 Test loss: 20.88 Saving ./checkpoint/yolov3_test_loss=20.8800.ckpt ...\n"
     ]
    },
    {
     "name": "stderr",
     "output_type": "stream",
     "text": [
      "train loss: 1.56: 100%|██████████| 396/396 [02:22<00:00,  2.74it/s] \n"
     ]
    },
    {
     "name": "stdout",
     "output_type": "stream",
     "text": [
      "=> Epoch: 176 Time: 2019-06-20 20:02:19 Train loss: 1.74 Test loss: 20.97 Saving ./checkpoint/yolov3_test_loss=20.9668.ckpt ...\n"
     ]
    },
    {
     "name": "stderr",
     "output_type": "stream",
     "text": [
      "train loss: 0.60: 100%|██████████| 396/396 [02:24<00:00,  2.69it/s]\n"
     ]
    },
    {
     "name": "stdout",
     "output_type": "stream",
     "text": [
      "=> Epoch: 177 Time: 2019-06-20 20:04:52 Train loss: 1.72 Test loss: 21.33 Saving ./checkpoint/yolov3_test_loss=21.3336.ckpt ...\n"
     ]
    },
    {
     "name": "stderr",
     "output_type": "stream",
     "text": [
      "train loss: 1.82: 100%|██████████| 396/396 [02:20<00:00,  3.05it/s]\n"
     ]
    },
    {
     "name": "stdout",
     "output_type": "stream",
     "text": [
      "=> Epoch: 178 Time: 2019-06-20 20:07:21 Train loss: 1.74 Test loss: 20.55 Saving ./checkpoint/yolov3_test_loss=20.5471.ckpt ...\n"
     ]
    },
    {
     "name": "stderr",
     "output_type": "stream",
     "text": [
      "train loss: 0.92: 100%|██████████| 396/396 [02:20<00:00,  2.59it/s]\n"
     ]
    },
    {
     "name": "stdout",
     "output_type": "stream",
     "text": [
      "=> Epoch: 179 Time: 2019-06-20 20:09:50 Train loss: 1.73 Test loss: 21.14 Saving ./checkpoint/yolov3_test_loss=21.1410.ckpt ...\n"
     ]
    },
    {
     "name": "stderr",
     "output_type": "stream",
     "text": [
      "train loss: 3.33: 100%|██████████| 396/396 [02:27<00:00,  2.47it/s]\n"
     ]
    },
    {
     "name": "stdout",
     "output_type": "stream",
     "text": [
      "=> Epoch: 180 Time: 2019-06-20 20:12:26 Train loss: 1.70 Test loss: 21.74 Saving ./checkpoint/yolov3_test_loss=21.7395.ckpt ...\n"
     ]
    },
    {
     "name": "stderr",
     "output_type": "stream",
     "text": [
      "train loss: 1.96: 100%|██████████| 396/396 [02:24<00:00,  2.68it/s]\n"
     ]
    },
    {
     "name": "stdout",
     "output_type": "stream",
     "text": [
      "=> Epoch: 181 Time: 2019-06-20 20:15:00 Train loss: 1.74 Test loss: 21.00 Saving ./checkpoint/yolov3_test_loss=20.9978.ckpt ...\n"
     ]
    },
    {
     "name": "stderr",
     "output_type": "stream",
     "text": [
      "train loss: 1.90: 100%|██████████| 396/396 [02:23<00:00,  2.79it/s]\n"
     ]
    },
    {
     "name": "stdout",
     "output_type": "stream",
     "text": [
      "=> Epoch: 182 Time: 2019-06-20 20:17:31 Train loss: 1.72 Test loss: 21.91 Saving ./checkpoint/yolov3_test_loss=21.9140.ckpt ...\n"
     ]
    },
    {
     "name": "stderr",
     "output_type": "stream",
     "text": [
      "train loss: 1.22: 100%|██████████| 396/396 [02:23<00:00,  2.87it/s]\n"
     ]
    },
    {
     "name": "stdout",
     "output_type": "stream",
     "text": [
      "=> Epoch: 183 Time: 2019-06-20 20:20:04 Train loss: 1.72 Test loss: 22.54 Saving ./checkpoint/yolov3_test_loss=22.5444.ckpt ...\n"
     ]
    },
    {
     "name": "stderr",
     "output_type": "stream",
     "text": [
      "train loss: 1.39: 100%|██████████| 396/396 [02:25<00:00,  3.34it/s]\n"
     ]
    },
    {
     "name": "stdout",
     "output_type": "stream",
     "text": [
      "=> Epoch: 184 Time: 2019-06-20 20:22:38 Train loss: 1.72 Test loss: 20.89 Saving ./checkpoint/yolov3_test_loss=20.8950.ckpt ...\n"
     ]
    },
    {
     "name": "stderr",
     "output_type": "stream",
     "text": [
      "train loss: 1.97: 100%|██████████| 396/396 [02:19<00:00,  2.53it/s]\n"
     ]
    },
    {
     "name": "stdout",
     "output_type": "stream",
     "text": [
      "=> Epoch: 185 Time: 2019-06-20 20:25:06 Train loss: 1.71 Test loss: 22.23 Saving ./checkpoint/yolov3_test_loss=22.2316.ckpt ...\n"
     ]
    },
    {
     "name": "stderr",
     "output_type": "stream",
     "text": [
      "train loss: 0.77: 100%|██████████| 396/396 [02:20<00:00,  3.27it/s]\n"
     ]
    },
    {
     "name": "stdout",
     "output_type": "stream",
     "text": [
      "=> Epoch: 186 Time: 2019-06-20 20:27:35 Train loss: 1.68 Test loss: 21.66 Saving ./checkpoint/yolov3_test_loss=21.6592.ckpt ...\n"
     ]
    },
    {
     "name": "stderr",
     "output_type": "stream",
     "text": [
      "train loss: 1.17: 100%|██████████| 396/396 [02:20<00:00,  2.55it/s]\n"
     ]
    },
    {
     "name": "stdout",
     "output_type": "stream",
     "text": [
      "=> Epoch: 187 Time: 2019-06-20 20:30:05 Train loss: 1.69 Test loss: 21.83 Saving ./checkpoint/yolov3_test_loss=21.8313.ckpt ...\n"
     ]
    },
    {
     "name": "stderr",
     "output_type": "stream",
     "text": [
      "train loss: 0.97: 100%|██████████| 396/396 [02:22<00:00,  2.53it/s]\n"
     ]
    },
    {
     "name": "stdout",
     "output_type": "stream",
     "text": [
      "=> Epoch: 188 Time: 2019-06-20 20:32:36 Train loss: 1.73 Test loss: 21.50 Saving ./checkpoint/yolov3_test_loss=21.5025.ckpt ...\n"
     ]
    },
    {
     "name": "stderr",
     "output_type": "stream",
     "text": [
      "train loss: 2.26: 100%|██████████| 396/396 [02:24<00:00,  2.76it/s]\n"
     ]
    },
    {
     "name": "stdout",
     "output_type": "stream",
     "text": [
      "=> Epoch: 189 Time: 2019-06-20 20:35:10 Train loss: 1.76 Test loss: 21.51 Saving ./checkpoint/yolov3_test_loss=21.5052.ckpt ...\n"
     ]
    },
    {
     "name": "stderr",
     "output_type": "stream",
     "text": [
      "train loss: 1.59: 100%|██████████| 396/396 [02:18<00:00,  2.96it/s]\n"
     ]
    },
    {
     "name": "stdout",
     "output_type": "stream",
     "text": [
      "=> Epoch: 190 Time: 2019-06-20 20:37:37 Train loss: 1.70 Test loss: 21.58 Saving ./checkpoint/yolov3_test_loss=21.5780.ckpt ...\n"
     ]
    },
    {
     "name": "stderr",
     "output_type": "stream",
     "text": [
      "train loss: 2.36: 100%|██████████| 396/396 [02:24<00:00,  3.64it/s]\n"
     ]
    },
    {
     "name": "stdout",
     "output_type": "stream",
     "text": [
      "=> Epoch: 191 Time: 2019-06-20 20:40:11 Train loss: 1.70 Test loss: 21.33 Saving ./checkpoint/yolov3_test_loss=21.3322.ckpt ...\n"
     ]
    },
    {
     "name": "stderr",
     "output_type": "stream",
     "text": [
      "train loss: 1.78: 100%|██████████| 396/396 [02:22<00:00,  2.59it/s]\n"
     ]
    },
    {
     "name": "stdout",
     "output_type": "stream",
     "text": [
      "=> Epoch: 192 Time: 2019-06-20 20:42:42 Train loss: 1.70 Test loss: 21.52 Saving ./checkpoint/yolov3_test_loss=21.5245.ckpt ...\n"
     ]
    },
    {
     "name": "stderr",
     "output_type": "stream",
     "text": [
      "train loss: 0.74: 100%|██████████| 396/396 [02:23<00:00,  2.74it/s]\n"
     ]
    },
    {
     "name": "stdout",
     "output_type": "stream",
     "text": [
      "=> Epoch: 193 Time: 2019-06-20 20:45:14 Train loss: 1.69 Test loss: 21.87 Saving ./checkpoint/yolov3_test_loss=21.8692.ckpt ...\n"
     ]
    },
    {
     "name": "stderr",
     "output_type": "stream",
     "text": [
      "train loss: 1.00: 100%|██████████| 396/396 [02:22<00:00,  3.04it/s]\n"
     ]
    },
    {
     "name": "stdout",
     "output_type": "stream",
     "text": [
      "=> Epoch: 194 Time: 2019-06-20 20:47:45 Train loss: 1.73 Test loss: 21.22 Saving ./checkpoint/yolov3_test_loss=21.2216.ckpt ...\n"
     ]
    },
    {
     "name": "stderr",
     "output_type": "stream",
     "text": [
      "train loss: 1.46: 100%|██████████| 396/396 [02:25<00:00,  3.21it/s]\n"
     ]
    },
    {
     "name": "stdout",
     "output_type": "stream",
     "text": [
      "=> Epoch: 195 Time: 2019-06-20 20:50:20 Train loss: 1.70 Test loss: 22.30 Saving ./checkpoint/yolov3_test_loss=22.2995.ckpt ...\n"
     ]
    },
    {
     "name": "stderr",
     "output_type": "stream",
     "text": [
      "train loss: 0.82: 100%|██████████| 396/396 [02:23<00:00,  3.03it/s]\n"
     ]
    },
    {
     "name": "stdout",
     "output_type": "stream",
     "text": [
      "=> Epoch: 196 Time: 2019-06-20 20:52:51 Train loss: 1.72 Test loss: 21.76 Saving ./checkpoint/yolov3_test_loss=21.7575.ckpt ...\n"
     ]
    },
    {
     "name": "stderr",
     "output_type": "stream",
     "text": [
      "train loss: 2.06: 100%|██████████| 396/396 [02:21<00:00,  2.94it/s]\n"
     ]
    },
    {
     "name": "stdout",
     "output_type": "stream",
     "text": [
      "=> Epoch: 197 Time: 2019-06-20 20:55:21 Train loss: 1.72 Test loss: 21.36 Saving ./checkpoint/yolov3_test_loss=21.3636.ckpt ...\n"
     ]
    },
    {
     "name": "stderr",
     "output_type": "stream",
     "text": [
      "train loss: 1.94: 100%|██████████| 396/396 [02:19<00:00,  2.86it/s]\n"
     ]
    },
    {
     "name": "stdout",
     "output_type": "stream",
     "text": [
      "=> Epoch: 198 Time: 2019-06-20 20:57:49 Train loss: 1.71 Test loss: 21.31 Saving ./checkpoint/yolov3_test_loss=21.3058.ckpt ...\n"
     ]
    },
    {
     "name": "stderr",
     "output_type": "stream",
     "text": [
      "train loss: 2.50: 100%|██████████| 396/396 [02:20<00:00,  3.15it/s]\n"
     ]
    },
    {
     "name": "stdout",
     "output_type": "stream",
     "text": [
      "=> Epoch: 199 Time: 2019-06-20 21:00:18 Train loss: 1.69 Test loss: 21.65 Saving ./checkpoint/yolov3_test_loss=21.6499.ckpt ...\n"
     ]
    },
    {
     "name": "stderr",
     "output_type": "stream",
     "text": [
      "train loss: 1.92: 100%|██████████| 396/396 [02:22<00:00,  2.74it/s]\n"
     ]
    },
    {
     "name": "stdout",
     "output_type": "stream",
     "text": [
      "=> Epoch: 200 Time: 2019-06-20 21:02:49 Train loss: 1.72 Test loss: 20.83 Saving ./checkpoint/yolov3_test_loss=20.8287.ckpt ...\n"
     ]
    },
    {
     "name": "stderr",
     "output_type": "stream",
     "text": [
      "train loss: 1.08: 100%|██████████| 396/396 [02:25<00:00,  3.18it/s]\n"
     ]
    },
    {
     "name": "stdout",
     "output_type": "stream",
     "text": [
      "=> Epoch: 201 Time: 2019-06-20 21:05:23 Train loss: 1.72 Test loss: 21.36 Saving ./checkpoint/yolov3_test_loss=21.3634.ckpt ...\n"
     ]
    },
    {
     "name": "stderr",
     "output_type": "stream",
     "text": [
      "train loss: 8.45: 100%|██████████| 396/396 [02:24<00:00,  3.09it/s]\n"
     ]
    },
    {
     "name": "stdout",
     "output_type": "stream",
     "text": [
      "=> Epoch: 202 Time: 2019-06-20 21:07:56 Train loss: 1.71 Test loss: 21.28 Saving ./checkpoint/yolov3_test_loss=21.2767.ckpt ...\n"
     ]
    },
    {
     "name": "stderr",
     "output_type": "stream",
     "text": [
      "train loss: 1.24: 100%|██████████| 396/396 [02:26<00:00,  2.63it/s]\n"
     ]
    },
    {
     "name": "stdout",
     "output_type": "stream",
     "text": [
      "=> Epoch: 203 Time: 2019-06-20 21:10:31 Train loss: 1.70 Test loss: 21.10 Saving ./checkpoint/yolov3_test_loss=21.0976.ckpt ...\n"
     ]
    },
    {
     "name": "stderr",
     "output_type": "stream",
     "text": [
      "train loss: 1.43: 100%|██████████| 396/396 [02:21<00:00,  3.02it/s]\n"
     ]
    },
    {
     "name": "stdout",
     "output_type": "stream",
     "text": [
      "=> Epoch: 204 Time: 2019-06-20 21:13:02 Train loss: 1.73 Test loss: 21.67 Saving ./checkpoint/yolov3_test_loss=21.6661.ckpt ...\n"
     ]
    },
    {
     "name": "stderr",
     "output_type": "stream",
     "text": [
      "train loss: 0.79: 100%|██████████| 396/396 [02:29<00:00,  2.64it/s]\n"
     ]
    },
    {
     "name": "stdout",
     "output_type": "stream",
     "text": [
      "=> Epoch: 205 Time: 2019-06-20 21:15:41 Train loss: 1.72 Test loss: 21.98 Saving ./checkpoint/yolov3_test_loss=21.9839.ckpt ...\n"
     ]
    },
    {
     "name": "stderr",
     "output_type": "stream",
     "text": [
      "train loss: 1.44: 100%|██████████| 396/396 [02:21<00:00,  2.64it/s]\n"
     ]
    },
    {
     "name": "stdout",
     "output_type": "stream",
     "text": [
      "=> Epoch: 206 Time: 2019-06-20 21:18:11 Train loss: 1.72 Test loss: 22.02 Saving ./checkpoint/yolov3_test_loss=22.0237.ckpt ...\n"
     ]
    },
    {
     "name": "stderr",
     "output_type": "stream",
     "text": [
      "train loss: 1.83: 100%|██████████| 396/396 [02:23<00:00,  3.21it/s]\n"
     ]
    },
    {
     "name": "stdout",
     "output_type": "stream",
     "text": [
      "=> Epoch: 207 Time: 2019-06-20 21:20:44 Train loss: 1.72 Test loss: 21.97 Saving ./checkpoint/yolov3_test_loss=21.9731.ckpt ...\n"
     ]
    },
    {
     "name": "stderr",
     "output_type": "stream",
     "text": [
      "train loss: 1.46: 100%|██████████| 396/396 [02:24<00:00,  2.48it/s]\n"
     ]
    },
    {
     "name": "stdout",
     "output_type": "stream",
     "text": [
      "=> Epoch: 208 Time: 2019-06-20 21:23:17 Train loss: 1.70 Test loss: 22.21 Saving ./checkpoint/yolov3_test_loss=22.2078.ckpt ...\n"
     ]
    },
    {
     "name": "stderr",
     "output_type": "stream",
     "text": [
      "train loss: 0.86: 100%|██████████| 396/396 [02:26<00:00,  3.25it/s]\n"
     ]
    },
    {
     "name": "stdout",
     "output_type": "stream",
     "text": [
      "=> Epoch: 209 Time: 2019-06-20 21:25:52 Train loss: 1.68 Test loss: 22.20 Saving ./checkpoint/yolov3_test_loss=22.2025.ckpt ...\n"
     ]
    },
    {
     "name": "stderr",
     "output_type": "stream",
     "text": [
      "train loss: 1.13: 100%|██████████| 396/396 [02:24<00:00,  3.43it/s]\n"
     ]
    },
    {
     "name": "stdout",
     "output_type": "stream",
     "text": [
      "=> Epoch: 210 Time: 2019-06-20 21:28:25 Train loss: 1.73 Test loss: 21.15 Saving ./checkpoint/yolov3_test_loss=21.1486.ckpt ...\n"
     ]
    },
    {
     "name": "stderr",
     "output_type": "stream",
     "text": [
      "train loss: 0.80: 100%|██████████| 396/396 [02:23<00:00,  3.08it/s]\n"
     ]
    },
    {
     "name": "stdout",
     "output_type": "stream",
     "text": [
      "=> Epoch: 211 Time: 2019-06-20 21:30:58 Train loss: 1.68 Test loss: 20.79 Saving ./checkpoint/yolov3_test_loss=20.7861.ckpt ...\n"
     ]
    },
    {
     "name": "stderr",
     "output_type": "stream",
     "text": [
      "train loss: 1.94: 100%|██████████| 396/396 [02:23<00:00,  2.97it/s]\n"
     ]
    },
    {
     "name": "stdout",
     "output_type": "stream",
     "text": [
      "=> Epoch: 212 Time: 2019-06-20 21:33:30 Train loss: 1.69 Test loss: 21.26 Saving ./checkpoint/yolov3_test_loss=21.2617.ckpt ...\n"
     ]
    },
    {
     "name": "stderr",
     "output_type": "stream",
     "text": [
      "train loss: 1.12: 100%|██████████| 396/396 [02:23<00:00,  2.55it/s] \n"
     ]
    },
    {
     "name": "stdout",
     "output_type": "stream",
     "text": [
      "=> Epoch: 213 Time: 2019-06-20 21:36:01 Train loss: 1.70 Test loss: 20.87 Saving ./checkpoint/yolov3_test_loss=20.8657.ckpt ...\n"
     ]
    },
    {
     "name": "stderr",
     "output_type": "stream",
     "text": [
      "train loss: 1.14: 100%|██████████| 396/396 [02:22<00:00,  2.75it/s]\n"
     ]
    },
    {
     "name": "stdout",
     "output_type": "stream",
     "text": [
      "=> Epoch: 214 Time: 2019-06-20 21:38:32 Train loss: 1.69 Test loss: 22.11 Saving ./checkpoint/yolov3_test_loss=22.1089.ckpt ...\n"
     ]
    },
    {
     "name": "stderr",
     "output_type": "stream",
     "text": [
      "train loss: 1.06: 100%|██████████| 396/396 [02:25<00:00,  2.44it/s]\n"
     ]
    },
    {
     "name": "stdout",
     "output_type": "stream",
     "text": [
      "=> Epoch: 215 Time: 2019-06-20 21:41:07 Train loss: 1.69 Test loss: 21.49 Saving ./checkpoint/yolov3_test_loss=21.4928.ckpt ...\n"
     ]
    },
    {
     "name": "stderr",
     "output_type": "stream",
     "text": [
      "train loss: 1.66: 100%|██████████| 396/396 [02:24<00:00,  2.63it/s]\n"
     ]
    },
    {
     "name": "stdout",
     "output_type": "stream",
     "text": [
      "=> Epoch: 216 Time: 2019-06-20 21:43:40 Train loss: 1.66 Test loss: 22.18 Saving ./checkpoint/yolov3_test_loss=22.1796.ckpt ...\n"
     ]
    },
    {
     "name": "stderr",
     "output_type": "stream",
     "text": [
      "train loss: 2.73: 100%|██████████| 396/396 [02:26<00:00,  2.60it/s]\n"
     ]
    },
    {
     "name": "stdout",
     "output_type": "stream",
     "text": [
      "=> Epoch: 217 Time: 2019-06-20 21:46:15 Train loss: 1.69 Test loss: 21.93 Saving ./checkpoint/yolov3_test_loss=21.9307.ckpt ...\n"
     ]
    },
    {
     "name": "stderr",
     "output_type": "stream",
     "text": [
      "train loss: 3.29: 100%|██████████| 396/396 [02:20<00:00,  3.65it/s]\n"
     ]
    },
    {
     "name": "stdout",
     "output_type": "stream",
     "text": [
      "=> Epoch: 218 Time: 2019-06-20 21:48:44 Train loss: 1.74 Test loss: 21.72 Saving ./checkpoint/yolov3_test_loss=21.7170.ckpt ...\n"
     ]
    },
    {
     "name": "stderr",
     "output_type": "stream",
     "text": [
      "train loss: 1.14: 100%|██████████| 396/396 [02:24<00:00,  3.09it/s]\n"
     ]
    },
    {
     "name": "stdout",
     "output_type": "stream",
     "text": [
      "=> Epoch: 219 Time: 2019-06-20 21:51:17 Train loss: 1.72 Test loss: 21.47 Saving ./checkpoint/yolov3_test_loss=21.4662.ckpt ...\n"
     ]
    },
    {
     "name": "stderr",
     "output_type": "stream",
     "text": [
      "train loss: 1.33: 100%|██████████| 396/396 [02:25<00:00,  2.63it/s] \n"
     ]
    },
    {
     "name": "stdout",
     "output_type": "stream",
     "text": [
      "=> Epoch: 220 Time: 2019-06-20 21:53:51 Train loss: 1.71 Test loss: 21.95 Saving ./checkpoint/yolov3_test_loss=21.9510.ckpt ...\n"
     ]
    },
    {
     "name": "stderr",
     "output_type": "stream",
     "text": [
      "train loss: 1.94: 100%|██████████| 396/396 [02:20<00:00,  2.68it/s]\n"
     ]
    },
    {
     "name": "stdout",
     "output_type": "stream",
     "text": [
      "=> Epoch: 221 Time: 2019-06-20 21:56:20 Train loss: 1.68 Test loss: 20.85 Saving ./checkpoint/yolov3_test_loss=20.8543.ckpt ...\n"
     ]
    },
    {
     "name": "stderr",
     "output_type": "stream",
     "text": [
      "train loss: 1.82: 100%|██████████| 396/396 [02:18<00:00,  3.15it/s]\n"
     ]
    },
    {
     "name": "stdout",
     "output_type": "stream",
     "text": [
      "=> Epoch: 222 Time: 2019-06-20 21:58:47 Train loss: 1.72 Test loss: 20.41 Saving ./checkpoint/yolov3_test_loss=20.4131.ckpt ...\n"
     ]
    },
    {
     "name": "stderr",
     "output_type": "stream",
     "text": [
      "train loss: 0.70: 100%|██████████| 396/396 [02:22<00:00,  2.61it/s]\n"
     ]
    },
    {
     "name": "stdout",
     "output_type": "stream",
     "text": [
      "=> Epoch: 223 Time: 2019-06-20 22:01:18 Train loss: 1.72 Test loss: 20.97 Saving ./checkpoint/yolov3_test_loss=20.9678.ckpt ...\n"
     ]
    },
    {
     "name": "stderr",
     "output_type": "stream",
     "text": [
      "train loss: 1.36: 100%|██████████| 396/396 [02:18<00:00,  3.30it/s]\n"
     ]
    },
    {
     "name": "stdout",
     "output_type": "stream",
     "text": [
      "=> Epoch: 224 Time: 2019-06-20 22:03:45 Train loss: 1.70 Test loss: 21.91 Saving ./checkpoint/yolov3_test_loss=21.9125.ckpt ...\n"
     ]
    },
    {
     "name": "stderr",
     "output_type": "stream",
     "text": [
      "train loss: 1.64: 100%|██████████| 396/396 [02:22<00:00,  2.37it/s]\n"
     ]
    },
    {
     "name": "stdout",
     "output_type": "stream",
     "text": [
      "=> Epoch: 225 Time: 2019-06-20 22:06:16 Train loss: 1.71 Test loss: 22.18 Saving ./checkpoint/yolov3_test_loss=22.1827.ckpt ...\n"
     ]
    },
    {
     "name": "stderr",
     "output_type": "stream",
     "text": [
      "train loss: 0.74: 100%|██████████| 396/396 [02:24<00:00,  2.82it/s]\n"
     ]
    },
    {
     "name": "stdout",
     "output_type": "stream",
     "text": [
      "=> Epoch: 226 Time: 2019-06-20 22:08:49 Train loss: 1.69 Test loss: 23.03 Saving ./checkpoint/yolov3_test_loss=23.0338.ckpt ...\n"
     ]
    },
    {
     "name": "stderr",
     "output_type": "stream",
     "text": [
      "train loss: 1.32: 100%|██████████| 396/396 [02:24<00:00,  3.01it/s]\n"
     ]
    },
    {
     "name": "stdout",
     "output_type": "stream",
     "text": [
      "=> Epoch: 227 Time: 2019-06-20 22:11:22 Train loss: 1.70 Test loss: 21.87 Saving ./checkpoint/yolov3_test_loss=21.8685.ckpt ...\n"
     ]
    },
    {
     "name": "stderr",
     "output_type": "stream",
     "text": [
      "train loss: 1.47: 100%|██████████| 396/396 [02:23<00:00,  2.74it/s]\n"
     ]
    },
    {
     "name": "stdout",
     "output_type": "stream",
     "text": [
      "=> Epoch: 228 Time: 2019-06-20 22:13:55 Train loss: 1.72 Test loss: 21.77 Saving ./checkpoint/yolov3_test_loss=21.7702.ckpt ...\n"
     ]
    },
    {
     "name": "stderr",
     "output_type": "stream",
     "text": [
      "train loss: 2.44: 100%|██████████| 396/396 [02:22<00:00,  2.94it/s]\n"
     ]
    },
    {
     "name": "stdout",
     "output_type": "stream",
     "text": [
      "=> Epoch: 229 Time: 2019-06-20 22:16:26 Train loss: 1.68 Test loss: 21.10 Saving ./checkpoint/yolov3_test_loss=21.0954.ckpt ...\n"
     ]
    },
    {
     "name": "stderr",
     "output_type": "stream",
     "text": [
      "train loss: 0.91: 100%|██████████| 396/396 [02:20<00:00,  2.98it/s]\n"
     ]
    },
    {
     "name": "stdout",
     "output_type": "stream",
     "text": [
      "=> Epoch: 230 Time: 2019-06-20 22:18:54 Train loss: 1.72 Test loss: 21.61 Saving ./checkpoint/yolov3_test_loss=21.6115.ckpt ...\n"
     ]
    },
    {
     "name": "stderr",
     "output_type": "stream",
     "text": [
      "train loss: 1.71: 100%|██████████| 396/396 [02:21<00:00,  2.45it/s]\n"
     ]
    },
    {
     "name": "stdout",
     "output_type": "stream",
     "text": [
      "=> Epoch: 231 Time: 2019-06-20 22:21:24 Train loss: 1.68 Test loss: 21.91 Saving ./checkpoint/yolov3_test_loss=21.9081.ckpt ...\n"
     ]
    },
    {
     "name": "stderr",
     "output_type": "stream",
     "text": [
      "train loss: 2.53: 100%|██████████| 396/396 [02:28<00:00,  2.55it/s]\n"
     ]
    },
    {
     "name": "stdout",
     "output_type": "stream",
     "text": [
      "=> Epoch: 232 Time: 2019-06-20 22:24:01 Train loss: 1.68 Test loss: 20.67 Saving ./checkpoint/yolov3_test_loss=20.6736.ckpt ...\n"
     ]
    },
    {
     "name": "stderr",
     "output_type": "stream",
     "text": [
      "train loss: 1.11: 100%|██████████| 396/396 [02:21<00:00,  2.80it/s]\n"
     ]
    },
    {
     "name": "stdout",
     "output_type": "stream",
     "text": [
      "=> Epoch: 233 Time: 2019-06-20 22:26:31 Train loss: 1.70 Test loss: 21.83 Saving ./checkpoint/yolov3_test_loss=21.8250.ckpt ...\n"
     ]
    },
    {
     "name": "stderr",
     "output_type": "stream",
     "text": [
      "train loss: 1.02: 100%|██████████| 396/396 [02:22<00:00,  2.65it/s]\n"
     ]
    },
    {
     "name": "stdout",
     "output_type": "stream",
     "text": [
      "=> Epoch: 234 Time: 2019-06-20 22:29:02 Train loss: 1.72 Test loss: 22.06 Saving ./checkpoint/yolov3_test_loss=22.0625.ckpt ...\n"
     ]
    },
    {
     "name": "stderr",
     "output_type": "stream",
     "text": [
      "train loss: 1.18: 100%|██████████| 396/396 [02:21<00:00,  2.39it/s]\n"
     ]
    },
    {
     "name": "stdout",
     "output_type": "stream",
     "text": [
      "=> Epoch: 235 Time: 2019-06-20 22:31:32 Train loss: 1.72 Test loss: 21.57 Saving ./checkpoint/yolov3_test_loss=21.5652.ckpt ...\n"
     ]
    },
    {
     "name": "stderr",
     "output_type": "stream",
     "text": [
      "train loss: 1.09: 100%|██████████| 396/396 [02:30<00:00,  2.55it/s]\n"
     ]
    },
    {
     "name": "stdout",
     "output_type": "stream",
     "text": [
      "=> Epoch: 236 Time: 2019-06-20 22:34:11 Train loss: 1.68 Test loss: 21.61 Saving ./checkpoint/yolov3_test_loss=21.6068.ckpt ...\n"
     ]
    },
    {
     "name": "stderr",
     "output_type": "stream",
     "text": [
      "train loss: 1.54: 100%|██████████| 396/396 [02:25<00:00,  3.13it/s] \n"
     ]
    },
    {
     "name": "stdout",
     "output_type": "stream",
     "text": [
      "=> Epoch: 237 Time: 2019-06-20 22:36:45 Train loss: 1.70 Test loss: 21.25 Saving ./checkpoint/yolov3_test_loss=21.2477.ckpt ...\n"
     ]
    },
    {
     "name": "stderr",
     "output_type": "stream",
     "text": [
      "train loss: 3.00: 100%|██████████| 396/396 [02:30<00:00,  3.01it/s]\n"
     ]
    },
    {
     "name": "stdout",
     "output_type": "stream",
     "text": [
      "=> Epoch: 238 Time: 2019-06-20 22:39:25 Train loss: 1.70 Test loss: 21.29 Saving ./checkpoint/yolov3_test_loss=21.2864.ckpt ...\n"
     ]
    },
    {
     "name": "stderr",
     "output_type": "stream",
     "text": [
      "train loss: 1.54: 100%|██████████| 396/396 [02:48<00:00,  2.15it/s]\n"
     ]
    },
    {
     "name": "stdout",
     "output_type": "stream",
     "text": [
      "=> Epoch: 239 Time: 2019-06-20 22:42:26 Train loss: 1.72 Test loss: 20.48 Saving ./checkpoint/yolov3_test_loss=20.4801.ckpt ...\n"
     ]
    },
    {
     "name": "stderr",
     "output_type": "stream",
     "text": [
      "train loss: 1.33: 100%|██████████| 396/396 [02:43<00:00,  1.57it/s]\n"
     ]
    },
    {
     "name": "stdout",
     "output_type": "stream",
     "text": [
      "=> Epoch: 240 Time: 2019-06-20 22:45:25 Train loss: 1.69 Test loss: 21.40 Saving ./checkpoint/yolov3_test_loss=21.4044.ckpt ...\n"
     ]
    },
    {
     "name": "stderr",
     "output_type": "stream",
     "text": [
      "train loss: 1.08: 100%|██████████| 396/396 [02:29<00:00,  3.21it/s]\n"
     ]
    },
    {
     "name": "stdout",
     "output_type": "stream",
     "text": [
      "=> Epoch: 241 Time: 2019-06-20 22:48:05 Train loss: 1.68 Test loss: 21.62 Saving ./checkpoint/yolov3_test_loss=21.6241.ckpt ...\n"
     ]
    },
    {
     "name": "stderr",
     "output_type": "stream",
     "text": [
      "train loss: 1.54: 100%|██████████| 396/396 [02:22<00:00,  3.47it/s]\n"
     ]
    },
    {
     "name": "stdout",
     "output_type": "stream",
     "text": [
      "=> Epoch: 242 Time: 2019-06-20 22:50:36 Train loss: 1.71 Test loss: 22.17 Saving ./checkpoint/yolov3_test_loss=22.1736.ckpt ...\n"
     ]
    },
    {
     "name": "stderr",
     "output_type": "stream",
     "text": [
      "train loss: 1.98: 100%|██████████| 396/396 [02:22<00:00,  2.84it/s]\n"
     ]
    },
    {
     "name": "stdout",
     "output_type": "stream",
     "text": [
      "=> Epoch: 243 Time: 2019-06-20 22:53:07 Train loss: 1.69 Test loss: 21.92 Saving ./checkpoint/yolov3_test_loss=21.9162.ckpt ...\n"
     ]
    },
    {
     "name": "stderr",
     "output_type": "stream",
     "text": [
      "train loss: 1.99: 100%|██████████| 396/396 [02:21<00:00,  3.35it/s]\n"
     ]
    },
    {
     "name": "stdout",
     "output_type": "stream",
     "text": [
      "=> Epoch: 244 Time: 2019-06-20 22:55:37 Train loss: 1.70 Test loss: 21.96 Saving ./checkpoint/yolov3_test_loss=21.9586.ckpt ...\n"
     ]
    },
    {
     "name": "stderr",
     "output_type": "stream",
     "text": [
      "train loss: 1.30: 100%|██████████| 396/396 [02:21<00:00,  3.10it/s]\n"
     ]
    },
    {
     "name": "stdout",
     "output_type": "stream",
     "text": [
      "=> Epoch: 245 Time: 2019-06-20 22:58:08 Train loss: 1.70 Test loss: 21.24 Saving ./checkpoint/yolov3_test_loss=21.2399.ckpt ...\n"
     ]
    },
    {
     "name": "stderr",
     "output_type": "stream",
     "text": [
      "train loss: 0.95: 100%|██████████| 396/396 [02:24<00:00,  3.03it/s]\n"
     ]
    },
    {
     "name": "stdout",
     "output_type": "stream",
     "text": [
      "=> Epoch: 246 Time: 2019-06-20 23:00:41 Train loss: 1.70 Test loss: 20.87 Saving ./checkpoint/yolov3_test_loss=20.8706.ckpt ...\n"
     ]
    },
    {
     "name": "stderr",
     "output_type": "stream",
     "text": [
      "train loss: 0.70: 100%|██████████| 396/396 [02:22<00:00,  2.44it/s]\n"
     ]
    },
    {
     "name": "stdout",
     "output_type": "stream",
     "text": [
      "=> Epoch: 247 Time: 2019-06-20 23:03:11 Train loss: 1.69 Test loss: 21.13 Saving ./checkpoint/yolov3_test_loss=21.1336.ckpt ...\n"
     ]
    },
    {
     "name": "stderr",
     "output_type": "stream",
     "text": [
      "train loss: 1.27: 100%|██████████| 396/396 [02:21<00:00,  2.99it/s]\n"
     ]
    },
    {
     "name": "stdout",
     "output_type": "stream",
     "text": [
      "=> Epoch: 248 Time: 2019-06-20 23:05:41 Train loss: 1.70 Test loss: 22.56 Saving ./checkpoint/yolov3_test_loss=22.5551.ckpt ...\n"
     ]
    },
    {
     "name": "stderr",
     "output_type": "stream",
     "text": [
      "train loss: 1.64: 100%|██████████| 396/396 [02:38<00:00,  2.59it/s]\n"
     ]
    },
    {
     "name": "stdout",
     "output_type": "stream",
     "text": [
      "=> Epoch: 249 Time: 2019-06-20 23:08:28 Train loss: 1.68 Test loss: 21.53 Saving ./checkpoint/yolov3_test_loss=21.5296.ckpt ...\n"
     ]
    },
    {
     "name": "stderr",
     "output_type": "stream",
     "text": [
      "train loss: 2.97: 100%|██████████| 396/396 [02:22<00:00,  3.30it/s]\n"
     ]
    },
    {
     "name": "stdout",
     "output_type": "stream",
     "text": [
      "=> Epoch: 250 Time: 2019-06-20 23:10:59 Train loss: 1.70 Test loss: 22.23 Saving ./checkpoint/yolov3_test_loss=22.2336.ckpt ...\n"
     ]
    },
    {
     "name": "stderr",
     "output_type": "stream",
     "text": [
      "train loss: 0.73: 100%|██████████| 396/396 [02:19<00:00,  3.21it/s]\n"
     ]
    },
    {
     "name": "stdout",
     "output_type": "stream",
     "text": [
      "=> Epoch: 251 Time: 2019-06-20 23:13:27 Train loss: 1.72 Test loss: 21.32 Saving ./checkpoint/yolov3_test_loss=21.3241.ckpt ...\n"
     ]
    },
    {
     "name": "stderr",
     "output_type": "stream",
     "text": [
      "train loss: 1.51: 100%|██████████| 396/396 [02:23<00:00,  2.42it/s]\n"
     ]
    },
    {
     "name": "stdout",
     "output_type": "stream",
     "text": [
      "=> Epoch: 252 Time: 2019-06-20 23:16:00 Train loss: 1.68 Test loss: 21.42 Saving ./checkpoint/yolov3_test_loss=21.4154.ckpt ...\n"
     ]
    },
    {
     "name": "stderr",
     "output_type": "stream",
     "text": [
      "train loss: 1.70: 100%|██████████| 396/396 [02:21<00:00,  2.83it/s]\n"
     ]
    },
    {
     "name": "stdout",
     "output_type": "stream",
     "text": [
      "=> Epoch: 253 Time: 2019-06-20 23:18:30 Train loss: 1.69 Test loss: 23.16 Saving ./checkpoint/yolov3_test_loss=23.1595.ckpt ...\n"
     ]
    },
    {
     "name": "stderr",
     "output_type": "stream",
     "text": [
      "train loss: 0.96: 100%|██████████| 396/396 [02:21<00:00,  2.70it/s]\n"
     ]
    },
    {
     "name": "stdout",
     "output_type": "stream",
     "text": [
      "=> Epoch: 254 Time: 2019-06-20 23:21:00 Train loss: 1.68 Test loss: 21.45 Saving ./checkpoint/yolov3_test_loss=21.4492.ckpt ...\n"
     ]
    },
    {
     "name": "stderr",
     "output_type": "stream",
     "text": [
      "train loss: 1.88: 100%|██████████| 396/396 [02:19<00:00,  3.03it/s]\n"
     ]
    },
    {
     "name": "stdout",
     "output_type": "stream",
     "text": [
      "=> Epoch: 255 Time: 2019-06-20 23:23:28 Train loss: 1.67 Test loss: 20.92 Saving ./checkpoint/yolov3_test_loss=20.9204.ckpt ...\n"
     ]
    },
    {
     "name": "stderr",
     "output_type": "stream",
     "text": [
      "train loss: 2.37: 100%|██████████| 396/396 [02:23<00:00,  2.72it/s]\n"
     ]
    },
    {
     "name": "stdout",
     "output_type": "stream",
     "text": [
      "=> Epoch: 256 Time: 2019-06-20 23:26:00 Train loss: 1.71 Test loss: 22.50 Saving ./checkpoint/yolov3_test_loss=22.5020.ckpt ...\n"
     ]
    },
    {
     "name": "stderr",
     "output_type": "stream",
     "text": [
      "train loss: 3.96: 100%|██████████| 396/396 [02:23<00:00,  2.34it/s]\n"
     ]
    },
    {
     "name": "stdout",
     "output_type": "stream",
     "text": [
      "=> Epoch: 257 Time: 2019-06-20 23:28:32 Train loss: 1.69 Test loss: 22.12 Saving ./checkpoint/yolov3_test_loss=22.1170.ckpt ...\n"
     ]
    },
    {
     "name": "stderr",
     "output_type": "stream",
     "text": [
      "train loss: 1.94: 100%|██████████| 396/396 [02:23<00:00,  2.48it/s]\n"
     ]
    },
    {
     "name": "stdout",
     "output_type": "stream",
     "text": [
      "=> Epoch: 258 Time: 2019-06-20 23:31:04 Train loss: 1.71 Test loss: 22.70 Saving ./checkpoint/yolov3_test_loss=22.7016.ckpt ...\n"
     ]
    },
    {
     "name": "stderr",
     "output_type": "stream",
     "text": [
      "train loss: 1.72: 100%|██████████| 396/396 [02:23<00:00,  3.47it/s]\n"
     ]
    },
    {
     "name": "stdout",
     "output_type": "stream",
     "text": [
      "=> Epoch: 259 Time: 2019-06-20 23:33:36 Train loss: 1.69 Test loss: 21.88 Saving ./checkpoint/yolov3_test_loss=21.8800.ckpt ...\n"
     ]
    },
    {
     "name": "stderr",
     "output_type": "stream",
     "text": [
      "train loss: 1.00: 100%|██████████| 396/396 [02:26<00:00,  2.94it/s] \n"
     ]
    },
    {
     "name": "stdout",
     "output_type": "stream",
     "text": [
      "=> Epoch: 260 Time: 2019-06-20 23:36:11 Train loss: 1.69 Test loss: 21.84 Saving ./checkpoint/yolov3_test_loss=21.8436.ckpt ...\n"
     ]
    },
    {
     "name": "stderr",
     "output_type": "stream",
     "text": [
      "train loss: 1.77: 100%|██████████| 396/396 [02:24<00:00,  2.81it/s]\n"
     ]
    },
    {
     "name": "stdout",
     "output_type": "stream",
     "text": [
      "=> Epoch: 261 Time: 2019-06-20 23:38:44 Train loss: 1.67 Test loss: 22.51 Saving ./checkpoint/yolov3_test_loss=22.5076.ckpt ...\n"
     ]
    },
    {
     "name": "stderr",
     "output_type": "stream",
     "text": [
      "train loss: 2.06: 100%|██████████| 396/396 [02:26<00:00,  2.14it/s]\n"
     ]
    },
    {
     "name": "stdout",
     "output_type": "stream",
     "text": [
      "=> Epoch: 262 Time: 2019-06-20 23:41:20 Train loss: 1.71 Test loss: 21.80 Saving ./checkpoint/yolov3_test_loss=21.8010.ckpt ...\n"
     ]
    },
    {
     "name": "stderr",
     "output_type": "stream",
     "text": [
      "train loss: 1.11: 100%|██████████| 396/396 [02:21<00:00,  3.38it/s]\n"
     ]
    },
    {
     "name": "stdout",
     "output_type": "stream",
     "text": [
      "=> Epoch: 263 Time: 2019-06-20 23:43:50 Train loss: 1.69 Test loss: 21.73 Saving ./checkpoint/yolov3_test_loss=21.7263.ckpt ...\n"
     ]
    },
    {
     "name": "stderr",
     "output_type": "stream",
     "text": [
      "train loss: 2.17: 100%|██████████| 396/396 [02:23<00:00,  2.40it/s]\n"
     ]
    },
    {
     "name": "stdout",
     "output_type": "stream",
     "text": [
      "=> Epoch: 264 Time: 2019-06-20 23:46:22 Train loss: 1.65 Test loss: 21.45 Saving ./checkpoint/yolov3_test_loss=21.4515.ckpt ...\n"
     ]
    },
    {
     "name": "stderr",
     "output_type": "stream",
     "text": [
      "train loss: 1.29: 100%|██████████| 396/396 [02:23<00:00,  3.13it/s]\n"
     ]
    },
    {
     "name": "stdout",
     "output_type": "stream",
     "text": [
      "=> Epoch: 265 Time: 2019-06-20 23:48:54 Train loss: 1.68 Test loss: 21.87 Saving ./checkpoint/yolov3_test_loss=21.8741.ckpt ...\n"
     ]
    },
    {
     "name": "stderr",
     "output_type": "stream",
     "text": [
      "train loss: 1.34: 100%|██████████| 396/396 [02:25<00:00,  3.63it/s]\n"
     ]
    },
    {
     "name": "stdout",
     "output_type": "stream",
     "text": [
      "=> Epoch: 266 Time: 2019-06-20 23:51:28 Train loss: 1.68 Test loss: 21.58 Saving ./checkpoint/yolov3_test_loss=21.5777.ckpt ...\n"
     ]
    },
    {
     "name": "stderr",
     "output_type": "stream",
     "text": [
      "train loss: 1.98: 100%|██████████| 396/396 [02:25<00:00,  2.08it/s]\n"
     ]
    },
    {
     "name": "stdout",
     "output_type": "stream",
     "text": [
      "=> Epoch: 267 Time: 2019-06-20 23:54:03 Train loss: 1.66 Test loss: 21.48 Saving ./checkpoint/yolov3_test_loss=21.4808.ckpt ...\n"
     ]
    },
    {
     "name": "stderr",
     "output_type": "stream",
     "text": [
      "train loss: 0.99: 100%|██████████| 396/396 [02:26<00:00,  2.40it/s]\n"
     ]
    },
    {
     "name": "stdout",
     "output_type": "stream",
     "text": [
      "=> Epoch: 268 Time: 2019-06-20 23:56:38 Train loss: 1.68 Test loss: 21.50 Saving ./checkpoint/yolov3_test_loss=21.5046.ckpt ...\n"
     ]
    },
    {
     "name": "stderr",
     "output_type": "stream",
     "text": [
      "train loss: 1.91: 100%|██████████| 396/396 [02:21<00:00,  2.78it/s]\n"
     ]
    },
    {
     "name": "stdout",
     "output_type": "stream",
     "text": [
      "=> Epoch: 269 Time: 2019-06-20 23:59:08 Train loss: 1.70 Test loss: 21.54 Saving ./checkpoint/yolov3_test_loss=21.5438.ckpt ...\n"
     ]
    },
    {
     "name": "stderr",
     "output_type": "stream",
     "text": [
      "train loss: 1.39: 100%|██████████| 396/396 [02:24<00:00,  2.02it/s]\n"
     ]
    },
    {
     "name": "stdout",
     "output_type": "stream",
     "text": [
      "=> Epoch: 270 Time: 2019-06-21 00:01:40 Train loss: 1.68 Test loss: 21.81 Saving ./checkpoint/yolov3_test_loss=21.8075.ckpt ...\n"
     ]
    },
    {
     "name": "stderr",
     "output_type": "stream",
     "text": [
      "train loss: 0.94: 100%|██████████| 396/396 [02:23<00:00,  2.42it/s]\n"
     ]
    },
    {
     "name": "stdout",
     "output_type": "stream",
     "text": [
      "=> Epoch: 271 Time: 2019-06-21 00:04:12 Train loss: 1.69 Test loss: 21.44 Saving ./checkpoint/yolov3_test_loss=21.4420.ckpt ...\n"
     ]
    },
    {
     "name": "stderr",
     "output_type": "stream",
     "text": [
      "train loss: 1.55: 100%|██████████| 396/396 [02:23<00:00,  3.70it/s]\n"
     ]
    },
    {
     "name": "stdout",
     "output_type": "stream",
     "text": [
      "=> Epoch: 272 Time: 2019-06-21 00:06:45 Train loss: 1.66 Test loss: 21.99 Saving ./checkpoint/yolov3_test_loss=21.9885.ckpt ...\n"
     ]
    },
    {
     "name": "stderr",
     "output_type": "stream",
     "text": [
      "train loss: 1.62: 100%|██████████| 396/396 [02:20<00:00,  2.83it/s]\n"
     ]
    },
    {
     "name": "stdout",
     "output_type": "stream",
     "text": [
      "=> Epoch: 273 Time: 2019-06-21 00:09:14 Train loss: 1.69 Test loss: 21.95 Saving ./checkpoint/yolov3_test_loss=21.9548.ckpt ...\n"
     ]
    },
    {
     "name": "stderr",
     "output_type": "stream",
     "text": [
      "train loss: 0.65: 100%|██████████| 396/396 [02:22<00:00,  3.53it/s]\n"
     ]
    },
    {
     "name": "stdout",
     "output_type": "stream",
     "text": [
      "=> Epoch: 274 Time: 2019-06-21 00:11:46 Train loss: 1.68 Test loss: 21.34 Saving ./checkpoint/yolov3_test_loss=21.3409.ckpt ...\n"
     ]
    },
    {
     "name": "stderr",
     "output_type": "stream",
     "text": [
      "train loss: 1.69: 100%|██████████| 396/396 [02:26<00:00,  3.32it/s]\n"
     ]
    },
    {
     "name": "stdout",
     "output_type": "stream",
     "text": [
      "=> Epoch: 275 Time: 2019-06-21 00:14:21 Train loss: 1.66 Test loss: 21.41 Saving ./checkpoint/yolov3_test_loss=21.4120.ckpt ...\n"
     ]
    },
    {
     "name": "stderr",
     "output_type": "stream",
     "text": [
      "train loss: 3.30: 100%|██████████| 396/396 [02:26<00:00,  3.34it/s]\n"
     ]
    },
    {
     "name": "stdout",
     "output_type": "stream",
     "text": [
      "=> Epoch: 276 Time: 2019-06-21 00:16:56 Train loss: 1.69 Test loss: 21.75 Saving ./checkpoint/yolov3_test_loss=21.7457.ckpt ...\n"
     ]
    },
    {
     "name": "stderr",
     "output_type": "stream",
     "text": [
      "train loss: 0.79: 100%|██████████| 396/396 [02:19<00:00,  2.86it/s]\n"
     ]
    },
    {
     "name": "stdout",
     "output_type": "stream",
     "text": [
      "=> Epoch: 277 Time: 2019-06-21 00:19:24 Train loss: 1.68 Test loss: 21.94 Saving ./checkpoint/yolov3_test_loss=21.9401.ckpt ...\n"
     ]
    },
    {
     "name": "stderr",
     "output_type": "stream",
     "text": [
      "train loss: 1.24: 100%|██████████| 396/396 [02:23<00:00,  2.28it/s]\n"
     ]
    },
    {
     "name": "stdout",
     "output_type": "stream",
     "text": [
      "=> Epoch: 278 Time: 2019-06-21 00:21:56 Train loss: 1.65 Test loss: 21.76 Saving ./checkpoint/yolov3_test_loss=21.7562.ckpt ...\n"
     ]
    },
    {
     "name": "stderr",
     "output_type": "stream",
     "text": [
      "train loss: 1.85: 100%|██████████| 396/396 [02:24<00:00,  2.40it/s]\n"
     ]
    },
    {
     "name": "stdout",
     "output_type": "stream",
     "text": [
      "=> Epoch: 279 Time: 2019-06-21 00:24:29 Train loss: 1.70 Test loss: 22.06 Saving ./checkpoint/yolov3_test_loss=22.0621.ckpt ...\n"
     ]
    },
    {
     "name": "stderr",
     "output_type": "stream",
     "text": [
      "train loss: 0.93: 100%|██████████| 396/396 [02:26<00:00,  3.17it/s]\n"
     ]
    },
    {
     "name": "stdout",
     "output_type": "stream",
     "text": [
      "=> Epoch: 280 Time: 2019-06-21 00:27:04 Train loss: 1.69 Test loss: 21.18 Saving ./checkpoint/yolov3_test_loss=21.1804.ckpt ...\n"
     ]
    },
    {
     "name": "stderr",
     "output_type": "stream",
     "text": [
      "train loss: 1.68: 100%|██████████| 396/396 [02:26<00:00,  2.35it/s]\n"
     ]
    },
    {
     "name": "stdout",
     "output_type": "stream",
     "text": [
      "=> Epoch: 281 Time: 2019-06-21 00:29:39 Train loss: 1.72 Test loss: 21.42 Saving ./checkpoint/yolov3_test_loss=21.4185.ckpt ...\n"
     ]
    },
    {
     "name": "stderr",
     "output_type": "stream",
     "text": [
      "train loss: 1.17: 100%|██████████| 396/396 [02:19<00:00,  2.71it/s]\n"
     ]
    },
    {
     "name": "stdout",
     "output_type": "stream",
     "text": [
      "=> Epoch: 282 Time: 2019-06-21 00:32:08 Train loss: 1.66 Test loss: 22.04 Saving ./checkpoint/yolov3_test_loss=22.0387.ckpt ...\n"
     ]
    },
    {
     "name": "stderr",
     "output_type": "stream",
     "text": [
      "train loss: 2.02: 100%|██████████| 396/396 [02:23<00:00,  2.06it/s]\n"
     ]
    },
    {
     "name": "stdout",
     "output_type": "stream",
     "text": [
      "=> Epoch: 283 Time: 2019-06-21 00:34:40 Train loss: 1.67 Test loss: 21.98 Saving ./checkpoint/yolov3_test_loss=21.9785.ckpt ...\n"
     ]
    },
    {
     "name": "stderr",
     "output_type": "stream",
     "text": [
      "train loss: 2.61: 100%|██████████| 396/396 [02:24<00:00,  3.18it/s]\n"
     ]
    },
    {
     "name": "stdout",
     "output_type": "stream",
     "text": [
      "=> Epoch: 284 Time: 2019-06-21 00:37:13 Train loss: 1.68 Test loss: 21.80 Saving ./checkpoint/yolov3_test_loss=21.7950.ckpt ...\n"
     ]
    },
    {
     "name": "stderr",
     "output_type": "stream",
     "text": [
      "train loss: 1.28: 100%|██████████| 396/396 [02:26<00:00,  3.01it/s]\n"
     ]
    },
    {
     "name": "stdout",
     "output_type": "stream",
     "text": [
      "=> Epoch: 285 Time: 2019-06-21 00:39:49 Train loss: 1.67 Test loss: 22.24 Saving ./checkpoint/yolov3_test_loss=22.2387.ckpt ...\n"
     ]
    },
    {
     "name": "stderr",
     "output_type": "stream",
     "text": [
      "train loss: 2.60: 100%|██████████| 396/396 [02:21<00:00,  2.32it/s]\n"
     ]
    },
    {
     "name": "stdout",
     "output_type": "stream",
     "text": [
      "=> Epoch: 286 Time: 2019-06-21 00:42:19 Train loss: 1.68 Test loss: 22.71 Saving ./checkpoint/yolov3_test_loss=22.7138.ckpt ...\n"
     ]
    },
    {
     "name": "stderr",
     "output_type": "stream",
     "text": [
      "train loss: 2.28: 100%|██████████| 396/396 [02:24<00:00,  3.11it/s]\n"
     ]
    },
    {
     "name": "stdout",
     "output_type": "stream",
     "text": [
      "=> Epoch: 287 Time: 2019-06-21 00:44:53 Train loss: 1.66 Test loss: 21.89 Saving ./checkpoint/yolov3_test_loss=21.8908.ckpt ...\n"
     ]
    },
    {
     "name": "stderr",
     "output_type": "stream",
     "text": [
      "train loss: 0.85: 100%|██████████| 396/396 [02:20<00:00,  2.55it/s]\n"
     ]
    },
    {
     "name": "stdout",
     "output_type": "stream",
     "text": [
      "=> Epoch: 288 Time: 2019-06-21 00:47:22 Train loss: 1.69 Test loss: 22.08 Saving ./checkpoint/yolov3_test_loss=22.0847.ckpt ...\n"
     ]
    },
    {
     "name": "stderr",
     "output_type": "stream",
     "text": [
      "train loss: 2.21: 100%|██████████| 396/396 [02:23<00:00,  2.82it/s]\n"
     ]
    },
    {
     "name": "stdout",
     "output_type": "stream",
     "text": [
      "=> Epoch: 289 Time: 2019-06-21 00:49:54 Train loss: 1.71 Test loss: 20.87 Saving ./checkpoint/yolov3_test_loss=20.8736.ckpt ...\n"
     ]
    },
    {
     "name": "stderr",
     "output_type": "stream",
     "text": [
      "train loss: 2.56: 100%|██████████| 396/396 [02:25<00:00,  2.63it/s]\n"
     ]
    },
    {
     "name": "stdout",
     "output_type": "stream",
     "text": [
      "=> Epoch: 290 Time: 2019-06-21 00:52:28 Train loss: 1.68 Test loss: 21.48 Saving ./checkpoint/yolov3_test_loss=21.4798.ckpt ...\n"
     ]
    },
    {
     "name": "stderr",
     "output_type": "stream",
     "text": [
      "train loss: 2.42: 100%|██████████| 396/396 [02:21<00:00,  2.46it/s]\n"
     ]
    },
    {
     "name": "stdout",
     "output_type": "stream",
     "text": [
      "=> Epoch: 291 Time: 2019-06-21 00:54:58 Train loss: 1.69 Test loss: 22.60 Saving ./checkpoint/yolov3_test_loss=22.6047.ckpt ...\n"
     ]
    },
    {
     "name": "stderr",
     "output_type": "stream",
     "text": [
      "train loss: 1.39: 100%|██████████| 396/396 [02:21<00:00,  2.66it/s]\n"
     ]
    },
    {
     "name": "stdout",
     "output_type": "stream",
     "text": [
      "=> Epoch: 292 Time: 2019-06-21 00:57:28 Train loss: 1.67 Test loss: 21.94 Saving ./checkpoint/yolov3_test_loss=21.9445.ckpt ...\n"
     ]
    },
    {
     "name": "stderr",
     "output_type": "stream",
     "text": [
      "train loss: 1.56: 100%|██████████| 396/396 [02:24<00:00,  2.96it/s]\n"
     ]
    },
    {
     "name": "stdout",
     "output_type": "stream",
     "text": [
      "=> Epoch: 293 Time: 2019-06-21 01:00:01 Train loss: 1.67 Test loss: 21.48 Saving ./checkpoint/yolov3_test_loss=21.4838.ckpt ...\n"
     ]
    },
    {
     "name": "stderr",
     "output_type": "stream",
     "text": [
      "train loss: 0.63: 100%|██████████| 396/396 [02:21<00:00,  2.54it/s]\n"
     ]
    },
    {
     "name": "stdout",
     "output_type": "stream",
     "text": [
      "=> Epoch: 294 Time: 2019-06-21 01:02:31 Train loss: 1.69 Test loss: 22.54 Saving ./checkpoint/yolov3_test_loss=22.5372.ckpt ...\n"
     ]
    },
    {
     "name": "stderr",
     "output_type": "stream",
     "text": [
      "train loss: 1.99: 100%|██████████| 396/396 [02:22<00:00,  2.37it/s]\n"
     ]
    },
    {
     "name": "stdout",
     "output_type": "stream",
     "text": [
      "=> Epoch: 295 Time: 2019-06-21 01:05:02 Train loss: 1.68 Test loss: 22.13 Saving ./checkpoint/yolov3_test_loss=22.1322.ckpt ...\n"
     ]
    },
    {
     "name": "stderr",
     "output_type": "stream",
     "text": [
      "train loss: 1.12: 100%|██████████| 396/396 [02:23<00:00,  2.58it/s]\n"
     ]
    },
    {
     "name": "stdout",
     "output_type": "stream",
     "text": [
      "=> Epoch: 296 Time: 2019-06-21 01:07:34 Train loss: 1.69 Test loss: 21.70 Saving ./checkpoint/yolov3_test_loss=21.6961.ckpt ...\n"
     ]
    },
    {
     "name": "stderr",
     "output_type": "stream",
     "text": [
      "train loss: 1.80: 100%|██████████| 396/396 [02:26<00:00,  2.66it/s]\n"
     ]
    },
    {
     "name": "stdout",
     "output_type": "stream",
     "text": [
      "=> Epoch: 297 Time: 2019-06-21 01:10:10 Train loss: 1.69 Test loss: 21.86 Saving ./checkpoint/yolov3_test_loss=21.8556.ckpt ...\n"
     ]
    },
    {
     "name": "stderr",
     "output_type": "stream",
     "text": [
      "train loss: 2.75: 100%|██████████| 396/396 [02:21<00:00,  2.97it/s]\n"
     ]
    },
    {
     "name": "stdout",
     "output_type": "stream",
     "text": [
      "=> Epoch: 298 Time: 2019-06-21 01:12:40 Train loss: 1.67 Test loss: 21.92 Saving ./checkpoint/yolov3_test_loss=21.9230.ckpt ...\n"
     ]
    },
    {
     "name": "stderr",
     "output_type": "stream",
     "text": [
      "train loss: 1.01: 100%|██████████| 396/396 [02:22<00:00,  2.39it/s]\n"
     ]
    },
    {
     "name": "stdout",
     "output_type": "stream",
     "text": [
      "=> Epoch: 299 Time: 2019-06-21 01:15:11 Train loss: 1.66 Test loss: 22.46 Saving ./checkpoint/yolov3_test_loss=22.4593.ckpt ...\n"
     ]
    },
    {
     "name": "stderr",
     "output_type": "stream",
     "text": [
      "train loss: 1.75: 100%|██████████| 396/396 [02:24<00:00,  2.69it/s]\n"
     ]
    },
    {
     "name": "stdout",
     "output_type": "stream",
     "text": [
      "=> Epoch: 300 Time: 2019-06-21 01:17:45 Train loss: 1.64 Test loss: 21.56 Saving ./checkpoint/yolov3_test_loss=21.5582.ckpt ...\n"
     ]
    },
    {
     "name": "stderr",
     "output_type": "stream",
     "text": [
      "train loss: 1.37: 100%|██████████| 396/396 [02:24<00:00,  2.94it/s]\n"
     ]
    },
    {
     "name": "stdout",
     "output_type": "stream",
     "text": [
      "=> Epoch: 301 Time: 2019-06-21 01:20:18 Train loss: 1.65 Test loss: 21.93 Saving ./checkpoint/yolov3_test_loss=21.9320.ckpt ...\n"
     ]
    },
    {
     "name": "stderr",
     "output_type": "stream",
     "text": [
      "train loss: 1.64: 100%|██████████| 396/396 [02:19<00:00,  3.80it/s]\n"
     ]
    },
    {
     "name": "stdout",
     "output_type": "stream",
     "text": [
      "=> Epoch: 302 Time: 2019-06-21 01:22:45 Train loss: 1.68 Test loss: 21.88 Saving ./checkpoint/yolov3_test_loss=21.8768.ckpt ...\n"
     ]
    },
    {
     "name": "stderr",
     "output_type": "stream",
     "text": [
      "train loss: 1.89: 100%|██████████| 396/396 [02:22<00:00,  2.74it/s]\n"
     ]
    },
    {
     "name": "stdout",
     "output_type": "stream",
     "text": [
      "=> Epoch: 303 Time: 2019-06-21 01:25:17 Train loss: 1.69 Test loss: 21.40 Saving ./checkpoint/yolov3_test_loss=21.4014.ckpt ...\n"
     ]
    },
    {
     "name": "stderr",
     "output_type": "stream",
     "text": [
      "train loss: 1.25: 100%|██████████| 396/396 [02:24<00:00,  2.69it/s]\n"
     ]
    },
    {
     "name": "stdout",
     "output_type": "stream",
     "text": [
      "=> Epoch: 304 Time: 2019-06-21 01:27:50 Train loss: 1.65 Test loss: 22.55 Saving ./checkpoint/yolov3_test_loss=22.5464.ckpt ...\n"
     ]
    },
    {
     "name": "stderr",
     "output_type": "stream",
     "text": [
      "train loss: 1.31: 100%|██████████| 396/396 [02:24<00:00,  2.89it/s]\n"
     ]
    },
    {
     "name": "stdout",
     "output_type": "stream",
     "text": [
      "=> Epoch: 305 Time: 2019-06-21 01:30:23 Train loss: 1.66 Test loss: 22.24 Saving ./checkpoint/yolov3_test_loss=22.2421.ckpt ...\n"
     ]
    },
    {
     "name": "stderr",
     "output_type": "stream",
     "text": [
      "train loss: 1.08: 100%|██████████| 396/396 [02:24<00:00,  2.76it/s]\n"
     ]
    },
    {
     "name": "stdout",
     "output_type": "stream",
     "text": [
      "=> Epoch: 306 Time: 2019-06-21 01:32:55 Train loss: 1.64 Test loss: 21.79 Saving ./checkpoint/yolov3_test_loss=21.7925.ckpt ...\n"
     ]
    },
    {
     "name": "stderr",
     "output_type": "stream",
     "text": [
      "train loss: 0.85: 100%|██████████| 396/396 [02:25<00:00,  2.67it/s]\n"
     ]
    },
    {
     "name": "stdout",
     "output_type": "stream",
     "text": [
      "=> Epoch: 307 Time: 2019-06-21 01:35:30 Train loss: 1.66 Test loss: 21.09 Saving ./checkpoint/yolov3_test_loss=21.0853.ckpt ...\n"
     ]
    },
    {
     "name": "stderr",
     "output_type": "stream",
     "text": [
      "train loss: 2.49: 100%|██████████| 396/396 [02:25<00:00,  2.98it/s]\n"
     ]
    },
    {
     "name": "stdout",
     "output_type": "stream",
     "text": [
      "=> Epoch: 308 Time: 2019-06-21 01:38:04 Train loss: 1.64 Test loss: 22.39 Saving ./checkpoint/yolov3_test_loss=22.3873.ckpt ...\n"
     ]
    },
    {
     "name": "stderr",
     "output_type": "stream",
     "text": [
      "train loss: 2.08: 100%|██████████| 396/396 [02:21<00:00,  3.29it/s]\n"
     ]
    },
    {
     "name": "stdout",
     "output_type": "stream",
     "text": [
      "=> Epoch: 309 Time: 2019-06-21 01:40:34 Train loss: 1.67 Test loss: 22.48 Saving ./checkpoint/yolov3_test_loss=22.4840.ckpt ...\n"
     ]
    },
    {
     "name": "stderr",
     "output_type": "stream",
     "text": [
      "train loss: 3.36: 100%|██████████| 396/396 [02:24<00:00,  2.65it/s]\n"
     ]
    },
    {
     "name": "stdout",
     "output_type": "stream",
     "text": [
      "=> Epoch: 310 Time: 2019-06-21 01:43:06 Train loss: 1.72 Test loss: 21.27 Saving ./checkpoint/yolov3_test_loss=21.2658.ckpt ...\n"
     ]
    },
    {
     "name": "stderr",
     "output_type": "stream",
     "text": [
      "train loss: 1.75: 100%|██████████| 396/396 [02:20<00:00,  3.36it/s] \n"
     ]
    },
    {
     "name": "stdout",
     "output_type": "stream",
     "text": [
      "=> Epoch: 311 Time: 2019-06-21 01:45:36 Train loss: 1.70 Test loss: 21.32 Saving ./checkpoint/yolov3_test_loss=21.3201.ckpt ...\n"
     ]
    },
    {
     "name": "stderr",
     "output_type": "stream",
     "text": [
      "train loss: 1.30: 100%|██████████| 396/396 [02:20<00:00,  2.76it/s]\n"
     ]
    },
    {
     "name": "stdout",
     "output_type": "stream",
     "text": [
      "=> Epoch: 312 Time: 2019-06-21 01:48:05 Train loss: 1.66 Test loss: 21.55 Saving ./checkpoint/yolov3_test_loss=21.5548.ckpt ...\n"
     ]
    },
    {
     "name": "stderr",
     "output_type": "stream",
     "text": [
      "train loss: 2.18: 100%|██████████| 396/396 [02:22<00:00,  3.72it/s]\n"
     ]
    },
    {
     "name": "stdout",
     "output_type": "stream",
     "text": [
      "=> Epoch: 313 Time: 2019-06-21 01:50:35 Train loss: 1.66 Test loss: 21.75 Saving ./checkpoint/yolov3_test_loss=21.7520.ckpt ...\n"
     ]
    },
    {
     "name": "stderr",
     "output_type": "stream",
     "text": [
      "train loss: 1.88: 100%|██████████| 396/396 [02:22<00:00,  2.93it/s]\n"
     ]
    },
    {
     "name": "stdout",
     "output_type": "stream",
     "text": [
      "=> Epoch: 314 Time: 2019-06-21 01:53:07 Train loss: 1.68 Test loss: 21.54 Saving ./checkpoint/yolov3_test_loss=21.5373.ckpt ...\n"
     ]
    },
    {
     "name": "stderr",
     "output_type": "stream",
     "text": [
      "train loss: 2.60: 100%|██████████| 396/396 [02:20<00:00,  2.79it/s]\n"
     ]
    },
    {
     "name": "stdout",
     "output_type": "stream",
     "text": [
      "=> Epoch: 315 Time: 2019-06-21 01:55:36 Train loss: 1.65 Test loss: 20.51 Saving ./checkpoint/yolov3_test_loss=20.5088.ckpt ...\n"
     ]
    },
    {
     "name": "stderr",
     "output_type": "stream",
     "text": [
      "train loss: 1.68: 100%|██████████| 396/396 [02:24<00:00,  3.36it/s]\n"
     ]
    },
    {
     "name": "stdout",
     "output_type": "stream",
     "text": [
      "=> Epoch: 316 Time: 2019-06-21 01:58:09 Train loss: 1.69 Test loss: 22.25 Saving ./checkpoint/yolov3_test_loss=22.2461.ckpt ...\n"
     ]
    },
    {
     "name": "stderr",
     "output_type": "stream",
     "text": [
      "train loss: 1.78: 100%|██████████| 396/396 [02:22<00:00,  2.55it/s]\n"
     ]
    },
    {
     "name": "stdout",
     "output_type": "stream",
     "text": [
      "=> Epoch: 317 Time: 2019-06-21 02:00:40 Train loss: 1.67 Test loss: 21.92 Saving ./checkpoint/yolov3_test_loss=21.9224.ckpt ...\n"
     ]
    },
    {
     "name": "stderr",
     "output_type": "stream",
     "text": [
      "train loss: 1.91: 100%|██████████| 396/396 [02:25<00:00,  2.90it/s]\n"
     ]
    },
    {
     "name": "stdout",
     "output_type": "stream",
     "text": [
      "=> Epoch: 318 Time: 2019-06-21 02:03:14 Train loss: 1.64 Test loss: 21.85 Saving ./checkpoint/yolov3_test_loss=21.8497.ckpt ...\n"
     ]
    },
    {
     "name": "stderr",
     "output_type": "stream",
     "text": [
      "train loss: 2.09: 100%|██████████| 396/396 [02:26<00:00,  2.96it/s]\n"
     ]
    },
    {
     "name": "stdout",
     "output_type": "stream",
     "text": [
      "=> Epoch: 319 Time: 2019-06-21 02:05:49 Train loss: 1.65 Test loss: 22.21 Saving ./checkpoint/yolov3_test_loss=22.2146.ckpt ...\n"
     ]
    },
    {
     "name": "stderr",
     "output_type": "stream",
     "text": [
      "train loss: 0.60: 100%|██████████| 396/396 [02:28<00:00,  2.47it/s]\n"
     ]
    },
    {
     "name": "stdout",
     "output_type": "stream",
     "text": [
      "=> Epoch: 320 Time: 2019-06-21 02:08:26 Train loss: 1.66 Test loss: 21.50 Saving ./checkpoint/yolov3_test_loss=21.5008.ckpt ...\n"
     ]
    },
    {
     "name": "stderr",
     "output_type": "stream",
     "text": [
      "train loss: 4.92: 100%|██████████| 396/396 [02:21<00:00,  2.38it/s]\n"
     ]
    },
    {
     "name": "stdout",
     "output_type": "stream",
     "text": [
      "=> Epoch: 321 Time: 2019-06-21 02:10:56 Train loss: 1.68 Test loss: 20.62 Saving ./checkpoint/yolov3_test_loss=20.6214.ckpt ...\n"
     ]
    },
    {
     "name": "stderr",
     "output_type": "stream",
     "text": [
      "train loss: 0.67: 100%|██████████| 396/396 [02:20<00:00,  3.00it/s]\n"
     ]
    },
    {
     "name": "stdout",
     "output_type": "stream",
     "text": [
      "=> Epoch: 322 Time: 2019-06-21 02:13:25 Train loss: 1.67 Test loss: 21.61 Saving ./checkpoint/yolov3_test_loss=21.6115.ckpt ...\n"
     ]
    },
    {
     "name": "stderr",
     "output_type": "stream",
     "text": [
      "train loss: 1.84: 100%|██████████| 396/396 [02:22<00:00,  2.65it/s]\n"
     ]
    },
    {
     "name": "stdout",
     "output_type": "stream",
     "text": [
      "=> Epoch: 323 Time: 2019-06-21 02:15:56 Train loss: 1.68 Test loss: 21.41 Saving ./checkpoint/yolov3_test_loss=21.4112.ckpt ...\n"
     ]
    },
    {
     "name": "stderr",
     "output_type": "stream",
     "text": [
      "train loss: 1.58: 100%|██████████| 396/396 [02:20<00:00,  2.71it/s]\n"
     ]
    },
    {
     "name": "stdout",
     "output_type": "stream",
     "text": [
      "=> Epoch: 324 Time: 2019-06-21 02:18:25 Train loss: 1.69 Test loss: 21.27 Saving ./checkpoint/yolov3_test_loss=21.2721.ckpt ...\n"
     ]
    },
    {
     "name": "stderr",
     "output_type": "stream",
     "text": [
      "train loss: 1.61: 100%|██████████| 396/396 [02:24<00:00,  2.73it/s]\n"
     ]
    },
    {
     "name": "stdout",
     "output_type": "stream",
     "text": [
      "=> Epoch: 325 Time: 2019-06-21 02:20:58 Train loss: 1.65 Test loss: 21.52 Saving ./checkpoint/yolov3_test_loss=21.5210.ckpt ...\n"
     ]
    },
    {
     "name": "stderr",
     "output_type": "stream",
     "text": [
      "train loss: 2.77: 100%|██████████| 396/396 [02:20<00:00,  3.30it/s]\n"
     ]
    },
    {
     "name": "stdout",
     "output_type": "stream",
     "text": [
      "=> Epoch: 326 Time: 2019-06-21 02:23:27 Train loss: 1.70 Test loss: 21.54 Saving ./checkpoint/yolov3_test_loss=21.5382.ckpt ...\n"
     ]
    },
    {
     "name": "stderr",
     "output_type": "stream",
     "text": [
      "train loss: 1.28: 100%|██████████| 396/396 [02:22<00:00,  2.42it/s]\n"
     ]
    },
    {
     "name": "stdout",
     "output_type": "stream",
     "text": [
      "=> Epoch: 327 Time: 2019-06-21 02:25:58 Train loss: 1.66 Test loss: 22.15 Saving ./checkpoint/yolov3_test_loss=22.1524.ckpt ...\n"
     ]
    },
    {
     "name": "stderr",
     "output_type": "stream",
     "text": [
      "train loss: 1.54: 100%|██████████| 396/396 [02:23<00:00,  2.46it/s]\n"
     ]
    },
    {
     "name": "stdout",
     "output_type": "stream",
     "text": [
      "=> Epoch: 328 Time: 2019-06-21 02:28:30 Train loss: 1.65 Test loss: 21.80 Saving ./checkpoint/yolov3_test_loss=21.8019.ckpt ...\n"
     ]
    },
    {
     "name": "stderr",
     "output_type": "stream",
     "text": [
      "train loss: 1.36: 100%|██████████| 396/396 [02:22<00:00,  3.43it/s]\n"
     ]
    },
    {
     "name": "stdout",
     "output_type": "stream",
     "text": [
      "=> Epoch: 329 Time: 2019-06-21 02:31:01 Train loss: 1.68 Test loss: 21.73 Saving ./checkpoint/yolov3_test_loss=21.7276.ckpt ...\n"
     ]
    },
    {
     "name": "stderr",
     "output_type": "stream",
     "text": [
      "train loss: 1.09: 100%|██████████| 396/396 [02:25<00:00,  2.46it/s]\n"
     ]
    },
    {
     "name": "stdout",
     "output_type": "stream",
     "text": [
      "=> Epoch: 330 Time: 2019-06-21 02:33:34 Train loss: 1.63 Test loss: 21.08 Saving ./checkpoint/yolov3_test_loss=21.0797.ckpt ...\n"
     ]
    },
    {
     "name": "stderr",
     "output_type": "stream",
     "text": [
      "train loss: 1.25: 100%|██████████| 396/396 [02:25<00:00,  2.35it/s]\n"
     ]
    },
    {
     "name": "stdout",
     "output_type": "stream",
     "text": [
      "=> Epoch: 331 Time: 2019-06-21 02:36:08 Train loss: 1.68 Test loss: 21.49 Saving ./checkpoint/yolov3_test_loss=21.4915.ckpt ...\n"
     ]
    },
    {
     "name": "stderr",
     "output_type": "stream",
     "text": [
      "train loss: 1.28: 100%|██████████| 396/396 [02:24<00:00,  2.58it/s]\n"
     ]
    },
    {
     "name": "stdout",
     "output_type": "stream",
     "text": [
      "=> Epoch: 332 Time: 2019-06-21 02:38:41 Train loss: 1.63 Test loss: 22.30 Saving ./checkpoint/yolov3_test_loss=22.3021.ckpt ...\n"
     ]
    },
    {
     "name": "stderr",
     "output_type": "stream",
     "text": [
      "train loss: 1.15: 100%|██████████| 396/396 [02:25<00:00,  2.93it/s]\n"
     ]
    },
    {
     "name": "stdout",
     "output_type": "stream",
     "text": [
      "=> Epoch: 333 Time: 2019-06-21 02:41:14 Train loss: 1.67 Test loss: 21.84 Saving ./checkpoint/yolov3_test_loss=21.8410.ckpt ...\n"
     ]
    },
    {
     "name": "stderr",
     "output_type": "stream",
     "text": [
      "train loss: 0.73: 100%|██████████| 396/396 [02:24<00:00,  2.63it/s]\n"
     ]
    },
    {
     "name": "stdout",
     "output_type": "stream",
     "text": [
      "=> Epoch: 334 Time: 2019-06-21 02:43:47 Train loss: 1.66 Test loss: 22.01 Saving ./checkpoint/yolov3_test_loss=22.0112.ckpt ...\n"
     ]
    },
    {
     "name": "stderr",
     "output_type": "stream",
     "text": [
      "train loss: 1.13: 100%|██████████| 396/396 [02:20<00:00,  2.66it/s]\n"
     ]
    },
    {
     "name": "stdout",
     "output_type": "stream",
     "text": [
      "=> Epoch: 335 Time: 2019-06-21 02:46:17 Train loss: 1.65 Test loss: 22.26 Saving ./checkpoint/yolov3_test_loss=22.2598.ckpt ...\n"
     ]
    },
    {
     "name": "stderr",
     "output_type": "stream",
     "text": [
      "train loss: 1.16: 100%|██████████| 396/396 [02:22<00:00,  2.51it/s]\n"
     ]
    },
    {
     "name": "stdout",
     "output_type": "stream",
     "text": [
      "=> Epoch: 336 Time: 2019-06-21 02:48:47 Train loss: 1.68 Test loss: 21.64 Saving ./checkpoint/yolov3_test_loss=21.6390.ckpt ...\n"
     ]
    },
    {
     "name": "stderr",
     "output_type": "stream",
     "text": [
      "train loss: 2.40: 100%|██████████| 396/396 [02:24<00:00,  3.47it/s]\n"
     ]
    },
    {
     "name": "stdout",
     "output_type": "stream",
     "text": [
      "=> Epoch: 337 Time: 2019-06-21 02:51:20 Train loss: 1.70 Test loss: 20.75 Saving ./checkpoint/yolov3_test_loss=20.7517.ckpt ...\n"
     ]
    },
    {
     "name": "stderr",
     "output_type": "stream",
     "text": [
      "train loss: 0.94: 100%|██████████| 396/396 [02:25<00:00,  3.12it/s]\n"
     ]
    },
    {
     "name": "stdout",
     "output_type": "stream",
     "text": [
      "=> Epoch: 338 Time: 2019-06-21 02:53:54 Train loss: 1.65 Test loss: 21.94 Saving ./checkpoint/yolov3_test_loss=21.9413.ckpt ...\n"
     ]
    },
    {
     "name": "stderr",
     "output_type": "stream",
     "text": [
      "train loss: 1.76: 100%|██████████| 396/396 [02:23<00:00,  2.19it/s]\n"
     ]
    },
    {
     "name": "stdout",
     "output_type": "stream",
     "text": [
      "=> Epoch: 339 Time: 2019-06-21 02:56:27 Train loss: 1.65 Test loss: 22.99 Saving ./checkpoint/yolov3_test_loss=22.9948.ckpt ...\n"
     ]
    },
    {
     "name": "stderr",
     "output_type": "stream",
     "text": [
      "train loss: 0.79: 100%|██████████| 396/396 [02:23<00:00,  2.17it/s]\n"
     ]
    },
    {
     "name": "stdout",
     "output_type": "stream",
     "text": [
      "=> Epoch: 340 Time: 2019-06-21 02:58:59 Train loss: 1.65 Test loss: 22.42 Saving ./checkpoint/yolov3_test_loss=22.4246.ckpt ...\n"
     ]
    },
    {
     "name": "stderr",
     "output_type": "stream",
     "text": [
      "train loss: 2.32: 100%|██████████| 396/396 [02:26<00:00,  3.15it/s]\n"
     ]
    },
    {
     "name": "stdout",
     "output_type": "stream",
     "text": [
      "=> Epoch: 341 Time: 2019-06-21 03:01:35 Train loss: 1.67 Test loss: 22.12 Saving ./checkpoint/yolov3_test_loss=22.1229.ckpt ...\n"
     ]
    },
    {
     "name": "stderr",
     "output_type": "stream",
     "text": [
      "train loss: 2.46:  51%|█████     | 201/396 [01:14<01:13,  2.67it/s]"
     ]
    },
    {
     "ename": "KeyboardInterrupt",
     "evalue": "",
     "output_type": "error",
     "traceback": [
      "\u001b[0;31m---------------------------------------------------------------------------\u001b[0m",
      "\u001b[0;31mKeyboardInterrupt\u001b[0m                         Traceback (most recent call last)",
      "\u001b[0;32m<ipython-input-2-03e5deb3b69d>\u001b[0m in \u001b[0;36m<module>\u001b[0;34m\u001b[0m\n\u001b[1;32m    174\u001b[0m \u001b[0;34m\u001b[0m\u001b[0m\n\u001b[1;32m    175\u001b[0m \u001b[0mos\u001b[0m\u001b[0;34m.\u001b[0m\u001b[0menviron\u001b[0m\u001b[0;34m[\u001b[0m\u001b[0;34m\"CUDA_VISIBLE_DEVICES\"\u001b[0m\u001b[0;34m]\u001b[0m \u001b[0;34m=\u001b[0m \u001b[0;34m\"0\"\u001b[0m\u001b[0;34m\u001b[0m\u001b[0;34m\u001b[0m\u001b[0m\n\u001b[0;32m--> 176\u001b[0;31m \u001b[0;32mif\u001b[0m \u001b[0m__name__\u001b[0m \u001b[0;34m==\u001b[0m \u001b[0;34m'__main__'\u001b[0m\u001b[0;34m:\u001b[0m \u001b[0mYoloTrain\u001b[0m\u001b[0;34m(\u001b[0m\u001b[0;34m)\u001b[0m\u001b[0;34m.\u001b[0m\u001b[0mtrain\u001b[0m\u001b[0;34m(\u001b[0m\u001b[0;34m)\u001b[0m\u001b[0;34m\u001b[0m\u001b[0;34m\u001b[0m\u001b[0m\n\u001b[0m\u001b[1;32m    177\u001b[0m \u001b[0;34m\u001b[0m\u001b[0m\n\u001b[1;32m    178\u001b[0m \u001b[0;34m\u001b[0m\u001b[0m\n",
      "\u001b[0;32m<ipython-input-2-03e5deb3b69d>\u001b[0m in \u001b[0;36mtrain\u001b[0;34m(self)\u001b[0m\n\u001b[1;32m    144\u001b[0m                                                 \u001b[0mself\u001b[0m\u001b[0;34m.\u001b[0m\u001b[0mtrue_mbboxes\u001b[0m\u001b[0;34m:\u001b[0m \u001b[0mtrain_data\u001b[0m\u001b[0;34m[\u001b[0m\u001b[0;36m5\u001b[0m\u001b[0;34m]\u001b[0m\u001b[0;34m,\u001b[0m\u001b[0;34m\u001b[0m\u001b[0;34m\u001b[0m\u001b[0m\n\u001b[1;32m    145\u001b[0m                                                 \u001b[0mself\u001b[0m\u001b[0;34m.\u001b[0m\u001b[0mtrue_lbboxes\u001b[0m\u001b[0;34m:\u001b[0m \u001b[0mtrain_data\u001b[0m\u001b[0;34m[\u001b[0m\u001b[0;36m6\u001b[0m\u001b[0;34m]\u001b[0m\u001b[0;34m,\u001b[0m\u001b[0;34m\u001b[0m\u001b[0;34m\u001b[0m\u001b[0m\n\u001b[0;32m--> 146\u001b[0;31m                                                 \u001b[0mself\u001b[0m\u001b[0;34m.\u001b[0m\u001b[0mtrainable\u001b[0m\u001b[0;34m:\u001b[0m    \u001b[0;32mTrue\u001b[0m\u001b[0;34m,\u001b[0m\u001b[0;34m\u001b[0m\u001b[0;34m\u001b[0m\u001b[0m\n\u001b[0m\u001b[1;32m    147\u001b[0m                 })\n\u001b[1;32m    148\u001b[0m \u001b[0;34m\u001b[0m\u001b[0m\n",
      "\u001b[0;32m/usr/local/lib/python3.6/dist-packages/tensorflow/python/client/session.py\u001b[0m in \u001b[0;36mrun\u001b[0;34m(self, fetches, feed_dict, options, run_metadata)\u001b[0m\n\u001b[1;32m    927\u001b[0m     \u001b[0;32mtry\u001b[0m\u001b[0;34m:\u001b[0m\u001b[0;34m\u001b[0m\u001b[0;34m\u001b[0m\u001b[0m\n\u001b[1;32m    928\u001b[0m       result = self._run(None, fetches, feed_dict, options_ptr,\n\u001b[0;32m--> 929\u001b[0;31m                          run_metadata_ptr)\n\u001b[0m\u001b[1;32m    930\u001b[0m       \u001b[0;32mif\u001b[0m \u001b[0mrun_metadata\u001b[0m\u001b[0;34m:\u001b[0m\u001b[0;34m\u001b[0m\u001b[0;34m\u001b[0m\u001b[0m\n\u001b[1;32m    931\u001b[0m         \u001b[0mproto_data\u001b[0m \u001b[0;34m=\u001b[0m \u001b[0mtf_session\u001b[0m\u001b[0;34m.\u001b[0m\u001b[0mTF_GetBuffer\u001b[0m\u001b[0;34m(\u001b[0m\u001b[0mrun_metadata_ptr\u001b[0m\u001b[0;34m)\u001b[0m\u001b[0;34m\u001b[0m\u001b[0;34m\u001b[0m\u001b[0m\n",
      "\u001b[0;32m/usr/local/lib/python3.6/dist-packages/tensorflow/python/client/session.py\u001b[0m in \u001b[0;36m_run\u001b[0;34m(self, handle, fetches, feed_dict, options, run_metadata)\u001b[0m\n\u001b[1;32m   1150\u001b[0m     \u001b[0;32mif\u001b[0m \u001b[0mfinal_fetches\u001b[0m \u001b[0;32mor\u001b[0m \u001b[0mfinal_targets\u001b[0m \u001b[0;32mor\u001b[0m \u001b[0;34m(\u001b[0m\u001b[0mhandle\u001b[0m \u001b[0;32mand\u001b[0m \u001b[0mfeed_dict_tensor\u001b[0m\u001b[0;34m)\u001b[0m\u001b[0;34m:\u001b[0m\u001b[0;34m\u001b[0m\u001b[0;34m\u001b[0m\u001b[0m\n\u001b[1;32m   1151\u001b[0m       results = self._do_run(handle, final_targets, final_fetches,\n\u001b[0;32m-> 1152\u001b[0;31m                              feed_dict_tensor, options, run_metadata)\n\u001b[0m\u001b[1;32m   1153\u001b[0m     \u001b[0;32melse\u001b[0m\u001b[0;34m:\u001b[0m\u001b[0;34m\u001b[0m\u001b[0;34m\u001b[0m\u001b[0m\n\u001b[1;32m   1154\u001b[0m       \u001b[0mresults\u001b[0m \u001b[0;34m=\u001b[0m \u001b[0;34m[\u001b[0m\u001b[0;34m]\u001b[0m\u001b[0;34m\u001b[0m\u001b[0;34m\u001b[0m\u001b[0m\n",
      "\u001b[0;32m/usr/local/lib/python3.6/dist-packages/tensorflow/python/client/session.py\u001b[0m in \u001b[0;36m_do_run\u001b[0;34m(self, handle, target_list, fetch_list, feed_dict, options, run_metadata)\u001b[0m\n\u001b[1;32m   1326\u001b[0m     \u001b[0;32mif\u001b[0m \u001b[0mhandle\u001b[0m \u001b[0;32mis\u001b[0m \u001b[0;32mNone\u001b[0m\u001b[0;34m:\u001b[0m\u001b[0;34m\u001b[0m\u001b[0;34m\u001b[0m\u001b[0m\n\u001b[1;32m   1327\u001b[0m       return self._do_call(_run_fn, feeds, fetches, targets, options,\n\u001b[0;32m-> 1328\u001b[0;31m                            run_metadata)\n\u001b[0m\u001b[1;32m   1329\u001b[0m     \u001b[0;32melse\u001b[0m\u001b[0;34m:\u001b[0m\u001b[0;34m\u001b[0m\u001b[0;34m\u001b[0m\u001b[0m\n\u001b[1;32m   1330\u001b[0m       \u001b[0;32mreturn\u001b[0m \u001b[0mself\u001b[0m\u001b[0;34m.\u001b[0m\u001b[0m_do_call\u001b[0m\u001b[0;34m(\u001b[0m\u001b[0m_prun_fn\u001b[0m\u001b[0;34m,\u001b[0m \u001b[0mhandle\u001b[0m\u001b[0;34m,\u001b[0m \u001b[0mfeeds\u001b[0m\u001b[0;34m,\u001b[0m \u001b[0mfetches\u001b[0m\u001b[0;34m)\u001b[0m\u001b[0;34m\u001b[0m\u001b[0;34m\u001b[0m\u001b[0m\n",
      "\u001b[0;32m/usr/local/lib/python3.6/dist-packages/tensorflow/python/client/session.py\u001b[0m in \u001b[0;36m_do_call\u001b[0;34m(self, fn, *args)\u001b[0m\n\u001b[1;32m   1332\u001b[0m   \u001b[0;32mdef\u001b[0m \u001b[0m_do_call\u001b[0m\u001b[0;34m(\u001b[0m\u001b[0mself\u001b[0m\u001b[0;34m,\u001b[0m \u001b[0mfn\u001b[0m\u001b[0;34m,\u001b[0m \u001b[0;34m*\u001b[0m\u001b[0margs\u001b[0m\u001b[0;34m)\u001b[0m\u001b[0;34m:\u001b[0m\u001b[0;34m\u001b[0m\u001b[0;34m\u001b[0m\u001b[0m\n\u001b[1;32m   1333\u001b[0m     \u001b[0;32mtry\u001b[0m\u001b[0;34m:\u001b[0m\u001b[0;34m\u001b[0m\u001b[0;34m\u001b[0m\u001b[0m\n\u001b[0;32m-> 1334\u001b[0;31m       \u001b[0;32mreturn\u001b[0m \u001b[0mfn\u001b[0m\u001b[0;34m(\u001b[0m\u001b[0;34m*\u001b[0m\u001b[0margs\u001b[0m\u001b[0;34m)\u001b[0m\u001b[0;34m\u001b[0m\u001b[0;34m\u001b[0m\u001b[0m\n\u001b[0m\u001b[1;32m   1335\u001b[0m     \u001b[0;32mexcept\u001b[0m \u001b[0merrors\u001b[0m\u001b[0;34m.\u001b[0m\u001b[0mOpError\u001b[0m \u001b[0;32mas\u001b[0m \u001b[0me\u001b[0m\u001b[0;34m:\u001b[0m\u001b[0;34m\u001b[0m\u001b[0;34m\u001b[0m\u001b[0m\n\u001b[1;32m   1336\u001b[0m       \u001b[0mmessage\u001b[0m \u001b[0;34m=\u001b[0m \u001b[0mcompat\u001b[0m\u001b[0;34m.\u001b[0m\u001b[0mas_text\u001b[0m\u001b[0;34m(\u001b[0m\u001b[0me\u001b[0m\u001b[0;34m.\u001b[0m\u001b[0mmessage\u001b[0m\u001b[0;34m)\u001b[0m\u001b[0;34m\u001b[0m\u001b[0;34m\u001b[0m\u001b[0m\n",
      "\u001b[0;32m/usr/local/lib/python3.6/dist-packages/tensorflow/python/client/session.py\u001b[0m in \u001b[0;36m_run_fn\u001b[0;34m(feed_dict, fetch_list, target_list, options, run_metadata)\u001b[0m\n\u001b[1;32m   1317\u001b[0m       \u001b[0mself\u001b[0m\u001b[0;34m.\u001b[0m\u001b[0m_extend_graph\u001b[0m\u001b[0;34m(\u001b[0m\u001b[0;34m)\u001b[0m\u001b[0;34m\u001b[0m\u001b[0;34m\u001b[0m\u001b[0m\n\u001b[1;32m   1318\u001b[0m       return self._call_tf_sessionrun(\n\u001b[0;32m-> 1319\u001b[0;31m           options, feed_dict, fetch_list, target_list, run_metadata)\n\u001b[0m\u001b[1;32m   1320\u001b[0m \u001b[0;34m\u001b[0m\u001b[0m\n\u001b[1;32m   1321\u001b[0m     \u001b[0;32mdef\u001b[0m \u001b[0m_prun_fn\u001b[0m\u001b[0;34m(\u001b[0m\u001b[0mhandle\u001b[0m\u001b[0;34m,\u001b[0m \u001b[0mfeed_dict\u001b[0m\u001b[0;34m,\u001b[0m \u001b[0mfetch_list\u001b[0m\u001b[0;34m)\u001b[0m\u001b[0;34m:\u001b[0m\u001b[0;34m\u001b[0m\u001b[0;34m\u001b[0m\u001b[0m\n",
      "\u001b[0;32m/usr/local/lib/python3.6/dist-packages/tensorflow/python/client/session.py\u001b[0m in \u001b[0;36m_call_tf_sessionrun\u001b[0;34m(self, options, feed_dict, fetch_list, target_list, run_metadata)\u001b[0m\n\u001b[1;32m   1405\u001b[0m     return tf_session.TF_SessionRun_wrapper(\n\u001b[1;32m   1406\u001b[0m         \u001b[0mself\u001b[0m\u001b[0;34m.\u001b[0m\u001b[0m_session\u001b[0m\u001b[0;34m,\u001b[0m \u001b[0moptions\u001b[0m\u001b[0;34m,\u001b[0m \u001b[0mfeed_dict\u001b[0m\u001b[0;34m,\u001b[0m \u001b[0mfetch_list\u001b[0m\u001b[0;34m,\u001b[0m \u001b[0mtarget_list\u001b[0m\u001b[0;34m,\u001b[0m\u001b[0;34m\u001b[0m\u001b[0;34m\u001b[0m\u001b[0m\n\u001b[0;32m-> 1407\u001b[0;31m         run_metadata)\n\u001b[0m\u001b[1;32m   1408\u001b[0m \u001b[0;34m\u001b[0m\u001b[0m\n\u001b[1;32m   1409\u001b[0m   \u001b[0;32mdef\u001b[0m \u001b[0m_call_tf_sessionprun\u001b[0m\u001b[0;34m(\u001b[0m\u001b[0mself\u001b[0m\u001b[0;34m,\u001b[0m \u001b[0mhandle\u001b[0m\u001b[0;34m,\u001b[0m \u001b[0mfeed_dict\u001b[0m\u001b[0;34m,\u001b[0m \u001b[0mfetch_list\u001b[0m\u001b[0;34m)\u001b[0m\u001b[0;34m:\u001b[0m\u001b[0;34m\u001b[0m\u001b[0;34m\u001b[0m\u001b[0m\n",
      "\u001b[0;31mKeyboardInterrupt\u001b[0m: "
     ]
    }
   ],
   "source": [
    "#! /usr/bin/env python\n",
    "# coding=utf-8\n",
    "#================================================================\n",
    "#   Copyright (C) 2019 * Ltd. All rights reserved.\n",
    "#\n",
    "#   Editor      : VIM\n",
    "#   File name   : train.py\n",
    "#   Author      : YunYang1994\n",
    "#   Created date: 2019-02-28 17:50:26\n",
    "#   Description :\n",
    "#\n",
    "#================================================================\n",
    "\n",
    "\n",
    "\n",
    "\n",
    "class YoloTrain(object):\n",
    "    def __init__(self):\n",
    "        \n",
    "        self.anchor_per_scale    = cfg.YOLO.ANCHOR_PER_SCALE\n",
    "        self.classes             = utils.read_class_names(cfg.YOLO.CLASSES)\n",
    "        self.num_classes         = len(self.classes)\n",
    "        self.learn_rate_init     = cfg.TRAIN.LEARN_RATE_INIT\n",
    "        self.learn_rate_end      = cfg.TRAIN.LEARN_RATE_END\n",
    "        self.first_stage_epochs  = cfg.TRAIN.FISRT_STAGE_EPOCHS\n",
    "        self.second_stage_epochs = cfg.TRAIN.SECOND_STAGE_EPOCHS\n",
    "        self.warmup_periods      = cfg.TRAIN.WARMUP_EPOCHS\n",
    "        self.initial_weight      = cfg.TRAIN.INITIAL_WEIGHT\n",
    "        self.time                = time.strftime('%Y-%m-%d-%H-%M-%S', time.localtime(time.time()))\n",
    "        self.moving_ave_decay    = cfg.YOLO.MOVING_AVE_DECAY\n",
    "        self.max_bbox_per_scale  = 150\n",
    "        self.train_logdir        = \"./data/log/train\"\n",
    "        self.trainset            = Dataset('train')\n",
    "        self.testset             = Dataset('test')\n",
    "        self.steps_per_period    = len(self.trainset)\n",
    "        self.sess                = tf.Session(config=tf.ConfigProto(allow_soft_placement=True))\n",
    "\n",
    "        with tf.name_scope('define_input'):\n",
    "            self.input_data   = tf.placeholder(dtype=tf.float32, name='input_data')\n",
    "            self.label_sbbox  = tf.placeholder(dtype=tf.float32, name='label_sbbox')\n",
    "            self.label_mbbox  = tf.placeholder(dtype=tf.float32, name='label_mbbox')\n",
    "            self.label_lbbox  = tf.placeholder(dtype=tf.float32, name='label_lbbox')\n",
    "            self.true_sbboxes = tf.placeholder(dtype=tf.float32, name='sbboxes')\n",
    "            self.true_mbboxes = tf.placeholder(dtype=tf.float32, name='mbboxes')\n",
    "            self.true_lbboxes = tf.placeholder(dtype=tf.float32, name='lbboxes')\n",
    "            self.trainable     = tf.placeholder(dtype=tf.bool, name='training')\n",
    "\n",
    "        with tf.name_scope(\"define_loss\"):\n",
    "            self.model = YOLOV3(self.input_data, self.trainable)\n",
    "            self.net_var = tf.global_variables()\n",
    "            self.giou_loss, self.conf_loss, self.prob_loss = self.model.compute_loss(\n",
    "                                                    self.label_sbbox,  self.label_mbbox,  self.label_lbbox,\n",
    "                                                    self.true_sbboxes, self.true_mbboxes, self.true_lbboxes)\n",
    "            self.loss = self.giou_loss + self.conf_loss + self.prob_loss\n",
    "\n",
    "        with tf.name_scope('learn_rate'):\n",
    "            self.global_step = tf.Variable(1.0, dtype=tf.float64, trainable=False, name='global_step')\n",
    "            warmup_steps = tf.constant(self.warmup_periods * self.steps_per_period,\n",
    "                                        dtype=tf.float64, name='warmup_steps')\n",
    "            train_steps = tf.constant( (self.first_stage_epochs + self.second_stage_epochs)* self.steps_per_period,\n",
    "                                        dtype=tf.float64, name='train_steps')\n",
    "            self.learn_rate = tf.cond(\n",
    "                pred=self.global_step < warmup_steps,\n",
    "                true_fn=lambda: self.global_step / warmup_steps * self.learn_rate_init,\n",
    "                false_fn=lambda: self.learn_rate_end + 0.5 * (self.learn_rate_init - self.learn_rate_end) *\n",
    "                                    (1 + tf.cos(\n",
    "                                        (self.global_step - warmup_steps) / (train_steps - warmup_steps) * np.pi))\n",
    "            )\n",
    "            global_step_update = tf.assign_add(self.global_step, 1.0)\n",
    "\n",
    "        with tf.name_scope(\"define_weight_decay\"):\n",
    "            moving_ave = tf.train.ExponentialMovingAverage(self.moving_ave_decay).apply(tf.trainable_variables())\n",
    "\n",
    "        with tf.name_scope(\"define_first_stage_train\"):\n",
    "            self.first_stage_trainable_var_list = []\n",
    "            for var in tf.trainable_variables():\n",
    "                var_name = var.op.name\n",
    "                var_name_mess = str(var_name).split('/')\n",
    "                if var_name_mess[0] in ['conv_sbbox', 'conv_mbbox', 'conv_lbbox']:\n",
    "                    self.first_stage_trainable_var_list.append(var)\n",
    "\n",
    "            first_stage_optimizer = tf.train.AdagradOptimizer(self.learn_rate).minimize(self.loss,\n",
    "                                                      var_list=self.first_stage_trainable_var_list)\n",
    "            with tf.control_dependencies(tf.get_collection(tf.GraphKeys.UPDATE_OPS)):\n",
    "                with tf.control_dependencies([first_stage_optimizer, global_step_update]):\n",
    "                    with tf.control_dependencies([moving_ave]):\n",
    "                        self.train_op_with_frozen_variables = tf.no_op()\n",
    "\n",
    "        with tf.name_scope(\"define_second_stage_train\"):\n",
    "            second_stage_trainable_var_list = tf.trainable_variables()\n",
    "            second_stage_optimizer = tf.train.AdagradOptimizer(self.learn_rate).minimize(self.loss,\n",
    "                                                      var_list=second_stage_trainable_var_list)\n",
    "\n",
    "            with tf.control_dependencies(tf.get_collection(tf.GraphKeys.UPDATE_OPS)):\n",
    "                with tf.control_dependencies([second_stage_optimizer, global_step_update]):\n",
    "                    with tf.control_dependencies([moving_ave]):\n",
    "                        self.train_op_with_all_variables = tf.no_op()\n",
    "\n",
    "        with tf.name_scope('loader_and_saver'):\n",
    "            self.loader = tf.train.Saver(self.net_var)\n",
    "            self.saver  = tf.train.Saver(tf.global_variables(), max_to_keep=1000)\n",
    "\n",
    "        with tf.name_scope('summary'):\n",
    "            tf.summary.scalar(\"learn_rate\",      self.learn_rate)\n",
    "            tf.summary.scalar(\"giou_loss\",  self.giou_loss)\n",
    "            tf.summary.scalar(\"conf_loss\",  self.conf_loss)\n",
    "            tf.summary.scalar(\"prob_loss\",  self.prob_loss)\n",
    "            tf.summary.scalar(\"total_loss\", self.loss)\n",
    "\n",
    "            logdir = \"./data/log/\"\n",
    "            if os.path.exists(logdir): shutil.rmtree(logdir)\n",
    "            os.mkdir(logdir)\n",
    "            self.write_op = tf.summary.merge_all()\n",
    "            self.summary_writer  = tf.summary.FileWriter(logdir, graph=self.sess.graph)\n",
    "\n",
    "\n",
    "    def train(self):\n",
    "        self.sess.run(tf.global_variables_initializer())\n",
    "        try:\n",
    "            print('=> Restoring weights from: %s ... ' % self.initial_weight)\n",
    "            self.loader.restore(self.sess, self.initial_weight)\n",
    "        except:\n",
    "            print('=> %s does not exist !!!' % self.initial_weight)\n",
    "            print('=> Now it starts to train YOLOV3 from scratch ...')\n",
    "            self.first_stage_epochs = 0\n",
    "\n",
    "        for epoch in range(1, 1+self.first_stage_epochs+self.second_stage_epochs):\n",
    "            if epoch <= self.first_stage_epochs:\n",
    "                train_op = self.train_op_with_frozen_variables\n",
    "            else:\n",
    "                train_op = self.train_op_with_all_variables\n",
    "\n",
    "            pbar = tqdm(self.trainset)\n",
    "            train_epoch_loss, test_epoch_loss = [], []\n",
    "\n",
    "            for train_data in pbar:\n",
    "                _, summary, train_step_loss, global_step_val = self.sess.run(\n",
    "                    [train_op, self.write_op, self.loss, self.global_step],feed_dict={\n",
    "                                                self.input_data:   train_data[0],\n",
    "                                                self.label_sbbox:  train_data[1],\n",
    "                                                self.label_mbbox:  train_data[2],\n",
    "                                                self.label_lbbox:  train_data[3],\n",
    "                                                self.true_sbboxes: train_data[4],\n",
    "                                                self.true_mbboxes: train_data[5],\n",
    "                                                self.true_lbboxes: train_data[6],\n",
    "                                                self.trainable:    True,\n",
    "                })\n",
    "\n",
    "                train_epoch_loss.append(train_step_loss)\n",
    "                self.summary_writer.add_summary(summary, global_step_val)\n",
    "                pbar.set_description(\"train loss: %.2f\" %train_step_loss)\n",
    "\n",
    "            for test_data in self.testset:\n",
    "                test_step_loss = self.sess.run( self.loss, feed_dict={\n",
    "                                                self.input_data:   test_data[0],\n",
    "                                                self.label_sbbox:  test_data[1],\n",
    "                                                self.label_mbbox:  test_data[2],\n",
    "                                                self.label_lbbox:  test_data[3],\n",
    "                                                self.true_sbboxes: test_data[4],\n",
    "                                                self.true_mbboxes: test_data[5],\n",
    "                                                self.true_lbboxes: test_data[6],\n",
    "                                                self.trainable:    False,\n",
    "                })\n",
    "\n",
    "                test_epoch_loss.append(test_step_loss)\n",
    "\n",
    "            train_epoch_loss, test_epoch_loss = np.mean(train_epoch_loss), np.mean(test_epoch_loss)\n",
    "            ckpt_file = \"./checkpoint/yolov3_test_loss=%.4f.ckpt\" % test_epoch_loss\n",
    "            log_time = time.strftime('%Y-%m-%d %H:%M:%S', time.localtime(time.time()))\n",
    "            print(\"=> Epoch: %2d Time: %s Train loss: %.2f Test loss: %.2f Saving %s ...\"\n",
    "                            %(epoch, log_time, train_epoch_loss, test_epoch_loss, ckpt_file))\n",
    "            self.saver.save(self.sess, ckpt_file, global_step=epoch)\n",
    "\n",
    "\n",
    "os.environ[\"CUDA_VISIBLE_DEVICES\"] = \"0\"\n",
    "if __name__ == '__main__': YoloTrain().train()\n",
    "\n",
    "\n",
    "\n",
    "\n"
   ]
  }
 ],
 "metadata": {
  "kernelspec": {
   "display_name": "Python 3",
   "language": "python",
   "name": "python3"
  },
  "language_info": {
   "codemirror_mode": {
    "name": "ipython",
    "version": 3
   },
   "file_extension": ".py",
   "mimetype": "text/x-python",
   "name": "python",
   "nbconvert_exporter": "python",
   "pygments_lexer": "ipython3",
   "version": "3.6.7"
  }
 },
 "nbformat": 4,
 "nbformat_minor": 2
}
